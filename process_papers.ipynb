{
 "cells": [
  {
   "cell_type": "code",
   "execution_count": null,
   "id": "e874bf2c",
   "metadata": {},
   "outputs": [],
   "source": []
  },
  {
   "cell_type": "code",
   "execution_count": 71,
   "id": "a5ae503d",
   "metadata": {},
   "outputs": [],
   "source": [
    "from bs4 import BeautifulSoup\n",
    "import urllib.request as urllib2\n",
    "import shutil\n",
    "import os\n",
    "import re\n",
    "\n",
    "\n",
    "headers = {'User-Agent': 'Mozilla/5.0 (X11; Linux x86_64) AppleWebKit/537.11 (KHTML, like Gecko) Chrome/23.0.1271.64 Safari/537.11',\n",
    "       'Accept': 'text/html,application/xhtml+xml,application/xml;q=0.9,*/*;q=0.8',\n",
    "       'Accept-Charset': 'ISO-8859-1,utf-8;q=0.7,*;q=0.3',\n",
    "       'Accept-Encoding': 'none',\n",
    "       'Accept-Language': 'en-US,en;q=0.8',\n",
    "       'Connection': 'keep-alive'}\n",
    "\n",
    "miccai_base_url = 'https://miccai2021.org/openaccess/paperlinks/'\n"
   ]
  },
  {
   "cell_type": "code",
   "execution_count": 5,
   "id": "7335bc9f",
   "metadata": {},
   "outputs": [],
   "source": []
  },
  {
   "cell_type": "markdown",
   "id": "caa0f9eb",
   "metadata": {},
   "source": [
    "### Get list of all papers"
   ]
  },
  {
   "cell_type": "code",
   "execution_count": 48,
   "id": "35cfe07f",
   "metadata": {},
   "outputs": [],
   "source": [
    "req = urllib2.Request(miccai_base_url, headers=headers)\n",
    "page = urllib2.urlopen(req)\n",
    "content = page.read()"
   ]
  },
  {
   "cell_type": "code",
   "execution_count": 49,
   "id": "6ad906b8",
   "metadata": {},
   "outputs": [],
   "source": [
    "soup = BeautifulSoup(content, 'html.parser')\n",
    "paper_list_soup = soup.find_all('span', attrs={'class': 'posts-list-item-name float-left'})\n",
    "paper_list = []\n",
    "\n",
    "for paper in paper_list_soup:\n",
    "    \n",
    "    href = paper.find('a',href=True)['href']\n",
    "    title = paper.find('a',href=True).text\n",
    "    \n",
    "    paper_list.append( (href, title) )"
   ]
  },
  {
   "cell_type": "code",
   "execution_count": 42,
   "id": "3fb752fc",
   "metadata": {},
   "outputs": [],
   "source": []
  },
  {
   "cell_type": "code",
   "execution_count": null,
   "id": "23839f34",
   "metadata": {},
   "outputs": [],
   "source": []
  },
  {
   "cell_type": "markdown",
   "id": "81c78383",
   "metadata": {},
   "source": [
    "### Process papers"
   ]
  },
  {
   "cell_type": "code",
   "execution_count": 170,
   "id": "07551584",
   "metadata": {
    "scrolled": true
   },
   "outputs": [
    {
     "name": "stdout",
     "output_type": "stream",
     "text": [
      "0 531 ('2021/09/01/001-Paper1891.html', '2.5D Thermometry Maps for MRI-guided Tumor Ablation')\n",
      "1 531 ('2021/09/01/002-Paper0547.html', '2D Histology Meets 3D Topology: Cytoarchitectonic Brain Mapping with Graph Neural Networks')\n",
      "2 531 ('2021/09/01/003-Paper1706.html', '3D Brain Midline Delineation for Hematoma Patients')\n",
      "3 531 ('2021/09/01/004-Paper0943.html', '3D Graph-S2Net: Shape-Aware Self-Ensembling Network for Semi-Supervised Segmentation with Bilateral Graph Convolution')\n",
      "4 531 ('2021/09/01/005-Paper0364.html', '3D Semantic Mapping from Arthroscopy using Out-of-distribution Pose and Depth and In-distribution Segmentation Training')\n",
      "5 531 ('2021/09/01/006-Paper1154.html', '3D Transformer-GAN for High-quality PET Reconstruction')\n",
      "6 531 ('2021/09/01/007-Paper1688.html', '3D-UCaps: 3D Capsules Unet for Volumetric Image Segmentation')\n",
      "7 531 ('2021/09/01/008-Paper0889.html', '4D-CBCT Registration with a FBCT-derived Plug-and-Play Feasibility Regularizer')\n",
      "8 531 ('2021/09/01/009-Paper2286.html', '4D-Foot: A fully automated pipeline of four-dimensional analysis of the foot bones using bi-plane X-ray video and CT')\n",
      "9 531 ('2021/09/01/010-Paper0204.html', 'A Coherent Cooperative Learning Framework Based on Transfer Learning for Unsupervised Cross-domain Classification')\n",
      "10 531 ('2021/09/01/011-Paper0417.html', 'A computational geometry approach for modeling neuronal fiber pathways')\n",
      "11 531 ('2021/09/01/012-Paper1815.html', 'A Data-driven Approach for High Frame Rate Synthetic Transmit Aperture Ultrasound Imaging')\n",
      "12 531 ('2021/09/01/013-Paper0479.html', 'A Deep Discontinuity-Preserving Image Registration Network')\n",
      "13 531 ('2021/09/01/014-Paper0773.html', 'A Deep Learning Bidirectional Temporal Tracking Algorithm for Automated Blood Cell Counting from Non-invasive Capillaroscopy Videos')\n",
      "14 531 ('2021/09/01/015-Paper2146.html', 'A Deep Network for Joint Registration and Parcellation of Cortical Surfaces')\n",
      "15 531 ('2021/09/01/016-Paper1256.html', 'A Deep Reinforced Tree-traversal Agent for Coronary Artery Centerline Extraction')\n",
      "16 531 ('2021/09/01/017-Paper1101.html', 'A Hierarchical Feature Constraint to CamouflageMedical Adversarial Attacks')\n",
      "17 531 ('2021/09/01/018-Paper1667.html', 'A hybrid attention ensemble framework for zonal prostate segmentation')\n",
      "18 531 ('2021/09/01/019-Paper2349.html', 'A Line to Align: Deep Dynamic Time Warping for Retinal OCT Segmentation')\n",
      "19 531 ('2021/09/01/020-Paper0461.html', 'A Location Constrained Dual-branch Network for Reliable Diagnosis of Jaw Tumors and Cysts')\n",
      "20 531 ('2021/09/01/021-Paper2515.html', 'A Matrix Auto-encoder Framework to Align the Functional and Structural Connectivity Manifolds as Guided by Behavioral Phenotypes')\n",
      "21 531 ('2021/09/01/022-Paper2599.html', 'A Multi-attribute Controllable Generative Model for Histopathology Image Synthesis')\n",
      "22 531 ('2021/09/01/023-Paper0256.html', 'A Multi-Branch Hybrid Transformer Network for Corneal Endothelial Cell Segmentation')\n",
      "23 531 ('2021/09/01/024-Paper0846.html', 'A Neural Framework for Multi-Variable Lesion Quantification Through B-mode Style Transfer')\n",
      "24 531 ('2021/09/01/025-Paper2008.html', 'A new Approach to Orthopedic Surgery Planning using Deep Reinforcement Learning and Simulation')\n",
      "25 531 ('2021/09/01/026-Paper0308.html', 'A Novel Bayesian Semi-parametric Model for Learning Heritable Imaging Traits')\n",
      "26 531 ('2021/09/01/027-Paper1857.html', 'A Novel Hybrid Convolutional Neural Network for Accurate Organ Segmentation in 3D Head and Neck CT Images')\n",
      "27 531 ('2021/09/01/028-Paper1329.html', 'A Principled Approach to Failure Analysis and Model Repairment: Demonstration in Medical Imaging')\n",
      "28 531 ('2021/09/01/029-Paper0324.html', 'A Segmentation-Assisted Model for Universal Lesion Detection with Partial Labels')\n",
      "29 531 ('2021/09/01/030-Paper0731.html', 'A self-supervised deep framework for reference bony shape estimation in orthognathic surgical planning')\n",
      "30 531 ('2021/09/01/031-Paper1117.html', 'A Spatial Guided Self-supervised Clustering Network for Medical Image Segmentation')\n",
      "31 531 ('2021/09/01/032-Paper2377.html', 'A spherical convolutional neural network for white matter structure imaging via diffusion MRI')\n",
      "32 531 ('2021/09/01/033-Paper1013.html', 'A Structural Causal Model MR Images of Multiple Sclerosis')\n",
      "33 531 ('2021/09/01/034-Paper0481.html', 'A Topological-Attention ConvLSTM Network and Its Application to EM Images')\n",
      "34 531 ('2021/09/01/035-Paper0335.html', 'A Unified Hyper-GAN Model for Unpaired Multi-contrast MR Image Translation')\n",
      "35 531 ('2021/09/01/036-Paper1716.html', 'Acceleration by deep-learnt sharing of superfluous information in multi-contrast MRI')\n",
      "36 531 ('2021/09/01/037-Paper2323.html', 'Accounting for Dependencies in Deep Learning based Multiple Instance Learning for Whole Slide Imaging')\n",
      "37 531 ('2021/09/01/038-Paper0175.html', 'Accurate parameter estimation in fetal diffusion-weighted MRI - learning from fetal and newborn data')\n",
      "38 531 ('2021/09/01/039-Paper0901.html', 'ACN: Adversarial Co-training Network for Brain Tumor Segmentation with Missing Modalities')\n",
      "39 531 ('2021/09/01/040-Paper2306.html', 'Acoustic-based Spatio-temporal Learning for Press-fit Evaluation of Femoral Stem Implants')\n",
      "40 531 ('2021/09/01/041-Paper0102.html', 'Active Cortex Tractography')\n",
      "41 531 ('2021/09/01/042-Paper0498.html', 'Adapting Off-the-Shelf Source Segmenter for Target Medical Image Segmentation')\n",
      "42 531 ('2021/09/01/043-Paper1031.html', 'Adaptive Squeeze-and-Shrink Image Denoising for Improving Deep Detection of Cerebral Microbleeds')\n",
      "43 531 ('2021/09/01/044-Paper1715.html', 'Adversarial Domain Feature Adaptation for Bronchoscopic Depth Estimation')\n",
      "44 531 ('2021/09/01/045-Paper2230.html', 'Adversarial learning of cancer tissue representations')\n",
      "45 531 ('2021/09/01/046-Paper0604.html', 'Airway Anomaly Detection by Graph Neural Network')\n",
      "46 531 ('2021/09/01/047-Paper0338.html', 'AlignTransformer: Hierarchical Alignment of Visual Regions and Disease Tags for Medical Report Generation')\n",
      "47 531 ('2021/09/01/048-Paper1249.html', 'Alleviating Data Imbalance Issue with Perturbed Input during Inference')\n",
      "48 531 ('2021/09/01/049-Paper0383.html', 'AMINN: Autoencoder-based Multiple Instance Neural Network Improves Outcome Prediction of Multifocal Liver Metastases')\n",
      "49 531 ('2021/09/01/050-Paper0672.html', 'An Interpretable Approach to Automated Severity Scoring in Pelvic Trauma')\n",
      "50 531 ('2021/09/01/051-Paper0692.html', 'Anatomy of Domain Shift Impact on U-Net Layers in MRI Segmentation')\n",
      "51 531 ('2021/09/01/052-Paper0180.html', 'Anatomy-Constrained Contrastive Learning for Synthetic Segmentation without Ground-truth')\n",
      "52 531 ('2021/09/01/053-Paper1467.html', 'AnaXNet: Anatomy Aware Multi-label Finding Classification in Chest X-ray')\n",
      "53 531 ('2021/09/01/054-Paper0766.html', 'Annotation-efficient Cell Counting')\n",
      "54 531 ('2021/09/01/055-Paper0734.html', 'ASC-Net: Adversarial-based Selective Network for Unsupervised Anomaly Segmentation')\n",
      "55 531 ('2021/09/01/056-Paper2033.html', 'Asymmetric 3D Context Fusion for Universal Lesion Detection')\n",
      "56 531 ('2021/09/01/057-Paper0219.html', 'Atlas-Based Segmentation of Intracochlear Anatomy in Metal Artifact Affected CT Images of the Ear with Co-trained Deep Neural Networks')\n",
      "57 531 ('2021/09/01/058-Paper2098.html', 'AtrialGeneral: Domain Generalization for Left Atrial Segmentation of Multi-Center LGE MRIs')\n",
      "58 531 ('2021/09/01/059-Paper2202.html', 'Attention based CNN-LSTM Network for Pulmonary Embolism Prediction on Chest Computed Tomography Pulmonary Angiograms')\n",
      "59 531 ('2021/09/01/060-Paper2496.html', 'Attention-based Multi-scale Gated Recurrent Encoder with Novel Correlation Loss for COVID-19 Progression Prediction')\n",
      "60 531 ('2021/09/01/061-Paper1866.html', 'AutoFB: Automating Fetal Biometry Estimation from Standard Ultrasound Planes')\n",
      "61 531 ('2021/09/01/062-Paper1343.html', 'Automated Malaria Cells Detection from Blood Smears under Severe Class Imbalance via Importance-aware Balanced Group Softmax')\n",
      "62 531 ('2021/09/01/063-Paper2386.html', 'Automatic Path Planning for Safe Guide Pin Insertion in PCL Reconstruction Surgery')\n",
      "63 531 ('2021/09/01/064-Paper0305.html', 'Automatic Polyp Segmentation via Multi-scale Subtraction Network')\n"
     ]
    },
    {
     "name": "stdout",
     "output_type": "stream",
     "text": [
      "64 531 ('2021/09/01/065-Paper1657.html', 'Automatic Severity Rating for Improved Psoriasis Treatment')\n",
      "65 531 ('2021/09/01/066-Paper1844.html', 'Automating Embryo Development Stage Detection in Time-Lapse Imaging with Synergic Loss and Temporal Learning')\n",
      "66 531 ('2021/09/01/067-Paper0438.html', 'AxonEM Dataset: 3D Axon Instance Segmentation of Brain Cortical Regions')\n",
      "67 531 ('2021/09/01/068-Paper0936.html', 'Balanced-MixUp for highly imbalanced medical image classification')\n",
      "68 531 ('2021/09/01/069-Paper0705.html', 'Bayesian Atlas Building with Hierarchical Priors for Subject-specific Regularization')\n",
      "69 531 ('2021/09/01/070-Paper0562.html', 'Beyond COVID-19 Diagnosis: Prognosis with Hierarchical Graph Representation Learning')\n",
      "70 531 ('2021/09/01/071-Paper0966.html', 'Beyond Non-Maximum Suppression - Detecting Lesions in Digital Breast Tomosynthesis Volumes')\n",
      "71 531 ('2021/09/01/072-Paper2071.html', 'BI-RADS Classification of Calcification on Mammograms')\n",
      "72 531 ('2021/09/01/073-Paper0520.html', 'BiX-NAS: Searching Efficient Bi-directional Architecture for Medical Image Segmentation')\n",
      "73 531 ('2021/09/01/074-Paper0478.html', 'Boundary-aware Transformers for Skin Lesion Segmentation')\n",
      "74 531 ('2021/09/01/075-Paper0142.html', 'Bounding Box Tightness Prior for Weakly Supervised Image Segmentation')\n",
      "75 531 ('2021/09/01/076-Paper0895.html', 'BSDA-Net: A Boundary Shape and Distance Aware Joint Learning Framework for Segmenting and Classifying OCTA Images')\n",
      "76 531 ('2021/09/01/077-Paper0898.html', 'Building Dynamic Hierarchical Brain Networks and Capturing Transient Meta-states for Early Mild Cognitive Impairment Diagnosis')\n",
      "77 531 ('2021/09/01/078-Paper1303.html', 'CA^{2.5}-Net Nuclei Segmentation Framework with a Microscopy Cell Benchmark Collection')\n",
      "78 531 ('2021/09/01/079-Paper0053.html', 'CA-Net: Leveraging Contextual Features for Lung Cancer Prediction')\n",
      "79 531 ('2021/09/01/080-Paper2062.html', 'Cardiac Transmembrane Potential Imaging with GCN Based Iterative Soft Threshold Network')\n",
      "80 531 ('2021/09/01/081-Paper2106.html', 'C-arm positioning for spinal standard projections in different intra-operative settings')\n",
      "81 531 ('2021/09/01/082-Paper0448.html', 'CarveMix: A Simple Data Augmentation Method for Brain Lesion Segmentation')\n",
      "82 531 ('2021/09/01/083-Paper0340.html', 'CataNet: Predicting remaining cataract surgery duration')\n",
      "83 531 ('2021/09/01/084-Paper0545.html', 'Categorical Relation-Preserving Contrastive Knowledge Distillation for Medical Image Classification')\n",
      "84 531 ('2021/09/01/085-Paper2052.html', 'CCBANet: Cascading Context and Balancing Attention for Polyp Segmentation')\n",
      "85 531 ('2021/09/01/086-Paper0874.html', 'Cell Detection from Imperfect Annotation by Pseudo Label Selection Using P-classification')\n",
      "86 531 ('2021/09/01/087-Paper0505.html', 'Cell Detection in Domain Shift Problem Using Pseudo-Cell-Position Heatmap')\n",
      "87 531 ('2021/09/01/088-Paper1960.html', 'Cells are Actors: Social Network Analysis with Classical ML for SOTA Histology Image Classification')\n",
      "88 531 ('2021/09/01/089-Paper2174.html', 'Chest Radiograph Disentanglement for COVID-19 Outcome Prediction')\n",
      "89 531 ('2021/09/01/090-Paper0975.html', 'Class-Incremental Domain Adaptation with Smoothing and Calibration for Surgical Report Generation')\n",
      "90 531 ('2021/09/01/091-Paper1072.html', 'Coarse-to-fine Segmentation of Organs at Risk in Nasopharyngeal Carcinoma Radiotherapy')\n",
      "91 531 ('2021/09/01/092-Paper2511.html', 'Co-Generation and Segmentation for Generalized Surgical Instrument Segmentation on Unlabelled Data')\n",
      "92 531 ('2021/09/01/093-Paper0153.html', 'Co-Graph Attention Reasoning based Imaging and Clinical Features Integration for Lymph Node Metastasis Prediction')\n",
      "93 531 ('2021/09/01/094-Paper1549.html', 'Collaborative Image Synthesis and Disease Diagnosis for Classification of Neurodegenerative Disorders with Incomplete Multi-modal Neuroimages')\n",
      "94 531 ('2021/09/01/095-Paper1312.html', 'Colorectal Polyp Classification from White-light Colonoscopy Images via Domain Alignment')\n",
      "95 531 ('2021/09/01/096-Paper0680.html', 'Combining 3D Image and Tabular Data via the Dynamic Affine Feature Map Transform')\n",
      "96 531 ('2021/09/01/097-Paper1046.html', 'Combining Attention-based Multiple Instance Learning and Gaussian Processes for CT Hemorrhage Detection')\n",
      "97 531 ('2021/09/01/098-Paper1125.html', 'Comprehensive Importance-based Selective Regularization for Continual Segmentation Across Multiple Sites')\n",
      "98 531 ('2021/09/01/099-Paper0422.html', 'Conditional Deformable Image Registration with Convolutional Neural Network')\n",
      "99 531 ('2021/09/01/100-Paper1250.html', 'Conditional GAN with an Attention-based Generator and a 3D Discriminator for 3D Medical Image Generation')\n",
      "100 531 ('2021/09/01/101-Paper0487.html', 'Conditional Training with Bounding Map for Universal Lesion Detection')\n",
      "101 531 ('2021/09/01/102-Paper0611.html', 'Confidence-aware Cascaded Network for Fetal Brain Segmentation on MR Images')\n",
      "102 531 ('2021/09/01/103-Paper0241.html', 'Consistent Segmentation of Longitudinal Brain MR Images with Spatio-Temporal Constrained Networks')\n",
      "103 531 ('2021/09/01/104-Paper0405.html', 'Constrained Contrastive Distribution Learning for Unsupervised Anomaly Detection and Localisation in Medical Images')\n",
      "104 531 ('2021/09/01/105-Paper1416.html', 'Construction of Longitudinally Consistent 4D Infant Cerebellum Atlases based on Deep Learning')\n",
      "105 531 ('2021/09/01/106-Paper1222.html', 'Content-Preserving Unpaired Translation from Simulated to Realistic Ultrasound Images')\n",
      "106 531 ('2021/09/01/107-Paper0710.html', 'Context-aware virtual adversarial training for anatomically-plausible segmenation')\n",
      "107 531 ('2021/09/01/108-Paper1206.html', 'Continual Learning with Bayesian Model based on a Fixed Pre-trained Feature Extractor')\n",
      "108 531 ('2021/09/01/109-Paper0366.html', 'Continuous-Time Deep Glioma Growth Models')\n",
      "109 531 ('2021/09/01/110-Paper1590.html', 'Contrastive Learning Based Stain Normalization Across Multiple Tumor Histopathology ')\n",
      "110 531 ('2021/09/01/111-Paper1077.html', 'Contrastive Learning of Relative Position Regression for One-Shot Object Localization in 3D Medical Images')\n",
      "111 531 ('2021/09/01/112-Paper0382.html', 'Contrastive Learning with Continuous Proxy Meta-Data For 3D MRI Classification')\n",
      "112 531 ('2021/09/01/113-Paper1235.html', 'Contrastive Pre-training and Representation Distillation for Medical Visual Question Answering Based on Radiology Images')\n",
      "113 531 ('2021/09/01/114-Paper0527.html', 'Controllable cardiac synthesis via disentangled anatomy arithmetic')\n",
      "114 531 ('2021/09/01/115-Paper0229.html', 'Convolution-Free Medical Image Segmentation using Transformer Networks')\n",
      "115 531 ('2021/09/01/116-Paper0525.html', 'Cooperative Training and Latent Space Data Augmentation for Robust Medical Image Segmentation')\n",
      "116 531 ('2021/09/01/117-Paper0738.html', 'Cost-Sensitive Meta-Learning for Progress Prediction of Subjective Cognitive Decline with Brain Structural MRI')\n",
      "117 531 ('2021/09/01/118-Paper0537.html', 'CoTr: Efficiently Bridging CNN and Transformer for 3D Medical Image Segmentation')\n",
      "118 531 ('2021/09/01/119-Paper1203.html', 'Covariate Correcting Networks for Identifying Associations between Socioeconomic Factors and Brain Outcomes in Children')\n",
      "119 531 ('2021/09/01/120-Paper1362.html', 'CPNet: Cycle Prototype Network for Weakly-supervised 3D Renal Chamber Segmentation')\n",
      "120 531 ('2021/09/01/121-Paper0222.html', 'Cross-domain Depth Estimation Network for 3D Vessel Reconstruction in OCT Angiography')\n",
      "121 531 ('2021/09/01/122-Paper0642.html', 'Cross-modal Attention for MRI and Ultrasound Volume Registration')\n",
      "122 531 ('2021/09/01/123-Paper1095.html', 'Culprit-Prune-Net: Efficient Continual Sequential Multi-Domain Learning with Application to Skin Lesion Classification')\n",
      "123 531 ('2021/09/01/124-Paper0056.html', 'DAE-GCN: Identifying Disease-Related Features for Disease Prediction')\n",
      "124 531 ('2021/09/01/125-Paper1459.html', 'Data Augmentation in Logit Space for Medical Image Classification with Limited Training Data')\n",
      "125 531 ('2021/09/01/126-Paper1957.html', 'Data-driven mapping between functional connectomes using optimal transport')\n",
      "126 531 ('2021/09/01/127-Paper0330.html', 'DA-VSR: Domain Adaptable Volumetric Super-Resolution For Medical Images')\n"
     ]
    },
    {
     "name": "stdout",
     "output_type": "stream",
     "text": [
      "127 531 ('2021/09/01/128-Paper1554.html', 'DC-Net: Dual Context Network for 2D Medical Image Segmentation')\n",
      "128 531 ('2021/09/01/129-Paper1547.html', 'Deep Fiber Clustering: Anatomically Informed Unsupervised Deep Learning for Fast and Effective White Matter Parcellation')\n",
      "129 531 ('2021/09/01/130-Paper2357.html', 'Deep Iterative 2D/3D Registration')\n",
      "130 531 ('2021/09/01/131-Paper1539.html', 'Deep J-Sense: Accelerated MRI Reconstruction via Unrolled Alternating Optimization')\n",
      "131 531 ('2021/09/01/132-Paper1906.html', 'Deep Neural Dynamic Bayesian Networks applied to EEG sleep spindles modeling')\n",
      "132 531 ('2021/09/01/133-Paper0101.html', 'Deep Open Snake Tracker for Vessel Tracing ')\n",
      "133 531 ('2021/09/01/134-Paper0234.html', 'Deep Orthogonal Fusion: Multimodal Prognostic Biomarker Discovery Integrating Radiology, Pathology, Genomic, and Clinical Data')\n",
      "134 531 ('2021/09/01/135-Paper1987.html', 'Deep Reinforcement Exemplar Learning for Annotation Refinement')\n",
      "135 531 ('2021/09/01/136-Paper0264.html', 'Deep Simulation of Facial Appearance Changes Following Craniomaxillofacial Bony Movements in Orthognathic Surgical Planning')\n",
      "136 531 ('2021/09/01/137-Paper2185.html', 'Deep-Cleansing: Deep-learning based Electronic Cleansing in Dual-energy CT Colonography')\n",
      "137 531 ('2021/09/01/138-Paper1457.html', 'DeepMitral: Fully Automatic 3D Echocardiography Segmentation for Patient Specific Mitral Valve Modelling')\n",
      "138 531 ('2021/09/01/139-Paper1128.html', 'DeepOPG: Improving Orthopantomogram Finding Summarization with Weak Supervision')\n",
      "139 531 ('2021/09/01/140-Paper0015.html', 'DeepStationing: Thoracic Lymph Node Station Parsing in CT Scans using Anatomical Context Encoding and Key Organ Auto-Search')\n",
      "140 531 ('2021/09/01/141-Paper0313.html', 'Deformed2Self: Self-Supervised Denoising for Dynamic Medical Imaging')\n",
      "141 531 ('2021/09/01/142-Paper0336.html', 'Demystifying T1-MRI to FDG18-PET Image Translation via Representational Similarity')\n",
      "142 531 ('2021/09/01/143-Paper0443.html', 'Depth Estimation for Colonoscopy Images with Self-supervised Learning from Videos')\n",
      "143 531 ('2021/09/01/144-Paper0224.html', 'Detecting Brain State Changes by Geometric Deep Learning of Functional Dynamics on Riemannian Manifold')\n",
      "144 531 ('2021/09/01/145-Paper1315.html', 'Detecting Hypo-plastic Left Heart Syndrome in Fetal Ultrasound via Disease-specific Atlas Maps')\n",
      "145 531 ('2021/09/01/146-Paper2129.html', 'Detecting Outliers with Poisson Image Interpolation')\n",
      "146 531 ('2021/09/01/147-Paper1378.html', 'Detecting when pre-trained nnU-Net models fail silently for Covid-19 lung lesion segmentation')\n",
      "147 531 ('2021/09/01/148-Paper1900.html', 'Detection of critical structures in laparoscopic cholecystectomy using label relaxation and self-supervision')\n",
      "148 531 ('2021/09/01/149-Paper1946.html', 'Determination of error in 3D CT to 2D fluoroscopy image registration for endobronchial guidance')\n",
      "149 531 ('2021/09/01/150-Paper0437.html', 'Developmental Stage Classification of Embryos Using Two-Stream Neural Network with Linear-Chain Conditional Random Field')\n",
      "150 531 ('2021/09/01/151-Paper1887.html', 'Disentangled and Proportional Representation Learning for Multi-View Brain Connectomes')\n",
      "151 531 ('2021/09/01/152-Paper0189.html', \"Disentangled Sequential Graph Autoencoder for Preclinical Alzheimer's Disease Characterizations from ADNI Study\")\n",
      "152 531 ('2021/09/01/153-Paper2103.html', 'Distilling effective supervision for robust medical image segmentation with noisy labels')\n",
      "153 531 ('2021/09/01/154-Paper0254.html', 'Distinguishing Differences Matters: Focal Contrastive Network for Peripheral Anterior Synechiae Recognition')\n",
      "154 531 ('2021/09/01/155-Paper0247.html', 'Distortion Energy for Deep Learning-based Volumetric Finite Element Mesh Generation for Aortic Valves')\n",
      "155 531 ('2021/09/01/156-Paper0733.html', 'DLLNet: An Attention-based Deep Learning Method for Dental Landmark Localization on High-Resolution 3D Digital Dental Models')\n",
      "156 531 ('2021/09/01/157-Paper1462.html', 'Do we need complex image features to personalize treatment of patients with locally advanced rectal cancer?')\n",
      "157 531 ('2021/09/01/158-Paper1049.html', 'Domain Composition and Attention for Unseen-Domain Generalizable Medical Image Segmentation')\n",
      "158 531 ('2021/09/01/159-Paper1740.html', 'Domain Generalization for Mammography Detection via Multi-style and Multi-view Contrastive Learning')\n",
      "159 531 ('2021/09/01/160-Paper0828.html', 'DT-MIL: Deformable Transformer for Multi-instance Learning on Histopathological Image')\n",
      "160 531 ('2021/09/01/161-Paper1210.html', 'Dual-Consistency Semi-Supervised Learning with Uncertainty Quantification for COVID-19 Lesion Segmentation from CT Images')\n",
      "161 531 ('2021/09/01/162-Paper0972.html', 'Dual-Domain Adaptive-Scaling Non-Local Network for CT Metal Artifact Reduction')\n",
      "162 531 ('2021/09/01/163-Paper1113.html', 'Duo-SegNet: Adversarial Dual-Views for Semi-Supervised Medical Image Segmentation')\n",
      "163 531 ('2021/09/01/164-Paper0999.html', 'Early Detection of Liver Fibrosis Using Graph Convolutional Networks')\n",
      "164 531 ('2021/09/01/165-Paper0798.html', 'EchoCP: An Echocardiography Dataset in Contrast Transthoracic Echocardiography for Patent Foramen Ovale Diagnosis')\n",
      "165 531 ('2021/09/01/166-Paper0151.html', 'E-DSSR: Efficient Dynamic Surgical Scene Reconstruction with Transformer-based Stereoscopic Depth Perception')\n",
      "166 531 ('2021/09/01/167-Paper0744.html', 'Effective Pancreatic Cancer Screening on Non-contrast CT Scans via Anatomy-Aware Transformers')\n",
      "167 531 ('2021/09/01/168-Paper1513.html', 'Effective semantic segmentation in Cataract surgery: What matters most?')\n",
      "168 531 ('2021/09/01/169-Paper1800.html', 'Efficient and Generic Interactive Segmentation Framework to Correct Mispredictions during Clinical Evaluation of Medical Images')\n",
      "169 531 ('2021/09/01/170-Paper2007.html', 'Efficient Global-Local Memory for Real-time Instrument Segmentation of Robotic Surgical Video')\n",
      "170 531 ('2021/09/01/171-Paper1347.html', 'Efficient neural network approximation of robust PCA for automated analysis of calcium imaging data')\n",
      "171 531 ('2021/09/01/172-Paper0084.html', 'Efficient Semi-Supervised Gross Target Volume of Nasopharyngeal Carcinoma Segmentation via Uncertainty Rectified Pyramid Consistency')\n",
      "172 531 ('2021/09/01/173-Paper1567.html', 'EllipseNet: Anchor-Free Ellipse Detection for Automatic Cardiac Biometrics in Fetal Echocardiography')\n",
      "173 531 ('2021/09/01/174-Paper1439.html', 'EMA: Auditing Data Removal from Trained Models')\n",
      "174 531 ('2021/09/01/175-Paper1969.html', 'EMDQ-SLAM: Real-time High-resolution Reconstruction of Soft Tissue Surface from Stereo Laparoscopy Videos')\n",
      "175 531 ('2021/09/01/176-Paper2128.html', 'EndoUDA: A modality independent segmentation approach for endoscopy imaging')\n",
      "176 531 ('2021/09/01/177-Paper1304.html', 'End-to-end Ugly Duckling Sign Detection for Melanoma Identification with Transformers')\n",
      "177 531 ('2021/09/01/178-Paper0585.html', 'End-to-end Ultrasound Frame to Volume Registration')\n",
      "178 531 ('2021/09/01/179-Paper0628.html', 'Energy-Based Supervised Hashing for Multimorbidity Image Retrieval')\n",
      "179 531 ('2021/09/01/180-Paper0062.html', 'Enhanced Breast Lesion Classification via Knowledge Guided Cross-Modal and Semantic Data Augmentation')\n",
      "180 531 ('2021/09/01/181-Paper2444.html', 'Equivariant Filters for Efficient Tracking in 3D Imaging')\n",
      "181 531 ('2021/09/01/182-Paper0582.html', 'Estimation of High Frame Rate Digital Subtraction Angiography Sequences at Low Radiation Dose')\n",
      "182 531 ('2021/09/01/183-Paper2376.html', 'Estimation of spontaneous neuronal activity using homomorphic filtering')\n",
      "183 531 ('2021/09/01/184-Paper1244.html', 'Explainable Classification of Weakly Annotated Wireless Capsule Endoscopy Images based on a Fuzzy Bag-of-Colour Features Model and Brain Storm Optimization')\n",
      "184 531 ('2021/09/01/185-Paper0328.html', 'Explaining COVID-19 and Thoracic Pathology Model Predictions by Identifying Informative Input Features')\n",
      "185 531 ('2021/09/01/186-Paper2116.html', 'Exploring the Functional Difference of Gyri/Sulci via Hierarchical Interpretable Autoencoder')\n",
      "186 531 ('2021/09/01/187-Paper1692.html', ' Facial and cochlear nerves characterization using deep reinforcement learning for landmark detection')\n"
     ]
    },
    {
     "name": "stdout",
     "output_type": "stream",
     "text": [
      "187 531 ('2021/09/01/188-Paper0526.html', 'Fairness in Cardiac MR Image Analysis: An Investigation of Bias Due to Data Imbalance in Deep Learning Based Segmentation')\n",
      "188 531 ('2021/09/01/189-Paper0428.html', 'Fast Magnetic Resonance Imaging on Regions of Interest: From Sensing to Reconstruction')\n",
      "189 531 ('2021/09/01/190-Paper2060.html', 'Federated Contrastive Learning for Decentralized Unlabeled Medical Images')\n",
      "190 531 ('2021/09/01/191-Paper2051.html', 'Federated Contrastive Learning for Volumetric Medical Image Segmentation')\n",
      "191 531 ('2021/09/01/192-Paper0299.html', 'Federated Semi-supervised Medical Image Classification via Inter-client Relation Matching')\n",
      "192 531 ('2021/09/01/193-Paper1531.html', 'Federated Whole Prostate Segmentation in MRI with Personalized Neural Architectures')\n",
      "193 531 ('2021/09/01/194-Paper1236.html', 'FedPerl: Semi-Supervised Peer Learning for Skin Lesion Classification')\n",
      "194 531 ('2021/09/01/195-Paper2004.html', 'Few Trust Data Guided Annotation Refinement for Upper Gastrointestinal Anatomy Recognition')\n",
      "195 531 ('2021/09/01/196-Paper0106.html', 'Few-Shot Domain Adaptation with Polymorphic Transformers')\n",
      "196 531 ('2021/09/01/197-Paper1864.html', 'Few-shot Transfer Learning for Hereditary Retinal Diseases Recognition')\n",
      "197 531 ('2021/09/01/198-Paper1234.html', 'Fighting Class Imbalance with Contrastive Learning')\n",
      "198 531 ('2021/09/01/199-Paper1545.html', 'Flip Learning: Erase to Segment')\n",
      "199 531 ('2021/09/01/200-Paper0514.html', 'Focusing on Clinically Interpretable Features: Selective Attention Regularization for Liver Biopsy Image Classification')\n",
      "200 531 ('2021/09/01/201-Paper1000.html', 'FoldIt: Haustral Folds Detection and Segmentation in Colonoscopy Videos')\n",
      "201 531 ('2021/09/01/202-Paper0393.html', 'From Brain to Body: Learning Low-Frequency Respiration and Cardiac Signals from fMRI Dynamics')\n",
      "202 531 ('2021/09/01/203-Paper0771.html', 'From Pixel to Whole Slide: Automatic Detection of Microvascular Invasion in Hepatocellular Carcinoma on Histopathological Image via Cascaded Networks')\n",
      "203 531 ('2021/09/01/204-Paper1319.html', 'Fully Test-time Adaptation for Image Segmentation')\n",
      "204 531 ('2021/09/01/205-Paper2229.html', 'Functional Magnetic Resonance Imaging data augmentation through conditional ICA')\n",
      "205 531 ('2021/09/01/206-Paper0200.html', 'Generalised Super Resolution for Quantitative MRI Using Self-Supervised Mixture of Experts')\n",
      "206 531 ('2021/09/01/207-Paper1802.html', 'Generalizing Nucleus Recognition Model in Multi-source Ki67 Immunohistochemistry Stained Images via Domain-specific Pruning')\n",
      "207 531 ('2021/09/01/208-Paper0500.html', 'Generative Self-training for Cross-domain Unsupervised Tagged-to-Cine MRI Synthesis')\n",
      "208 531 ('2021/09/01/209-Paper0556.html', 'Generator Versus Segmentor: Pseudo-healthy Synthesis')\n",
      "209 531 ('2021/09/01/210-Paper1837.html', 'GKD: Semi-supervised Graph Knowledge Distillation for Graph-Independent Inference')\n",
      "210 531 ('2021/09/01/211-Paper0740.html', 'GloFlow: Whole Slide Image Stitching from Video using Optical Flow and Global Image Alignment')\n",
      "211 531 ('2021/09/01/212-Paper0047.html', 'GQ-GCN: Group Quadratic Graph Convolutional Network for Classification of Histopathological Images')\n",
      "212 531 ('2021/09/01/213-Paper1469.html', 'Graph Transformers for Characterization and Interpretation of Surgical Margins')\n",
      "213 531 ('2021/09/01/214-Paper1794.html', 'Group Shift Pointwise Convolution for Volumetric Medical Image Segmentation')\n",
      "214 531 ('2021/09/01/215-Paper0593.html', 'Harmonization with Flow-based Causal Inference')\n",
      "215 531 ('2021/09/01/216-Paper0018.html', 'Hepatocellular Carcinoma Segmentation from Digital Subtraction Angiography Videos using Learnable Temporal Difference')\n",
      "216 531 ('2021/09/01/217-Paper0407.html', 'Hierarchical Attention Guided Framework for Multi-resolution Collaborative Whole Slide Image Segmentation')\n",
      "217 531 ('2021/09/01/218-Paper1030.html', 'Hierarchical graph pathomic network for progression free survival prediction')\n",
      "218 531 ('2021/09/01/219-Paper0415.html', 'Hierarchical Phenotyping and Graph Modeling of Spatial Architecture in Lymphoid Neoplasms')\n",
      "219 531 ('2021/09/01/220-Paper2040.html', 'Hierarchical Self-Supervised Learning for Medical Image Segmentation Based on Multi-Domain Data Aggregation')\n",
      "220 531 ('2021/09/01/221-Paper0103.html', 'Highly Reproducible Whole Brain Parcellation in Individuals via Voxel Annotation with Fiber Clusters')\n",
      "221 531 ('2021/09/01/222-Paper1512.html', 'High-particle simulation of Monte-Carlo dose distribution with 3D ConvLSTMs')\n",
      "222 531 ('2021/09/01/223-Paper1596.html', 'High-Resolution Hierarchical Adversarial Learning for OCT Speckle Noise Reduction')\n",
      "223 531 ('2021/09/01/224-Paper2142.html', 'High-resolution segmentation of lumbar vertebrae from conventional thick slice MRI')\n",
      "224 531 ('2021/09/01/225-Paper1769.html', 'HRENet: A Hard Region Enhancement Network for Polyp Segmentation')\n",
      "225 531 ('2021/09/01/226-Paper2510.html', 'hSDB-instrument: Instrument Localization Database for Laparoscopic and Robotic Surgeries')\n",
      "226 531 ('2021/09/01/227-Paper0278.html', 'Hybrid Aggregation Network for Survival Analysis from Whole Slide Histopathological Images')\n",
      "227 531 ('2021/09/01/228-Paper1953.html', 'Hybrid graph convolutional neural networks for anatomical segmentation')\n",
      "228 531 ('2021/09/01/229-Paper2177.html', 'Hybrid Supervision Learning for Whole Slide Image Classification')\n",
      "229 531 ('2021/09/01/230-Paper0135.html', 'Identifying Quantitative and Explanatory Tumor Indexes from Dynamic Contrast Enhanced Ultrasound')\n",
      "230 531 ('2021/09/01/231-Paper0847.html', 'Image-based Incision Detection for Topological Intraoperative 3D Model Update in Augmented Reality Assisted Laparoscopic Surgery')\n",
      "231 531 ('2021/09/01/232-Paper0968.html', 'Image-derived phenotype extraction for genetic discovery via unsupervised deep learning in CMR images')\n",
      "232 531 ('2021/09/01/233-Paper0559.html', 'Image-to-Graph Convolutional Network for Deformable Shape Reconstruction from a Single Projection Image')\n",
      "233 531 ('2021/09/01/234-Paper0316.html', 'Imbalance-Aware Self-Supervised Learning for 3D Radiomic Representations')\n",
      "234 531 ('2021/09/01/235-Paper1188.html', 'Implicit field learning for unsupervised anomaly detection in medical images')\n",
      "235 531 ('2021/09/01/236-Paper0939.html', 'Implicit Neural Distance Representation for Unsupervised and Supervised Classification of Complex Anatomies')\n",
      "236 531 ('2021/09/01/237-Paper0445.html', 'Improved Brain Lesion Segmentation with Anatomical Priors from Healthy Subjects')\n",
      "237 531 ('2021/09/01/238-Paper0413.html', 'Improving Generalizability in Limited-Angle CT Reconstruction with Sinogram Extrapolation')\n",
      "238 531 ('2021/09/01/239-Paper2555.html', 'Improving hexahedral-FEM-based plasticity in surgery simulation')\n",
      "239 531 ('2021/09/01/240-Paper0820.html', 'Improving Pneumonia Localization via Cross-Attention on Medical Images and Reports')\n",
      "240 531 ('2021/09/01/241-Paper2437.html', 'Improving the Explainability of Skin Cancer Diagnosis Using CBIR')\n",
      "241 531 ('2021/09/01/242-Paper1126.html', 'Incorporating Isodose Lines and Gradient Information via Multi-task Learning for Dose Prediction in Radiotherapy')\n",
      "242 531 ('2021/09/01/243-Paper1076.html', 'Increasing Consistency of Evoked Response in Thalamic Nuclei During Repetitive Burst Stimulation of Peripheral Nerve in Humans')\n",
      "243 531 ('2021/09/01/244-Paper0432.html', 'InDuDoNet: An Interpretable Dual Domain Network for CT Metal Artifact Reduction')\n",
      "244 531 ('2021/09/01/245-Paper0421.html', 'Instance-aware Feature Alignment for Cross-domain Cell Nuclei Detection in Histopathology Images')\n",
      "245 531 ('2021/09/01/246-Paper2099.html', 'Instance-based Vision Transformer for Subtyping of Papillary Renal Cell Carcinoma in Histopathological Image')\n",
      "246 531 ('2021/09/01/247-Paper1280.html', 'Integration of Patch Features through Self-Supervised Learning and Transformer for Survival Analysis on Whole Slide Images')\n",
      "247 531 ('2021/09/01/248-Paper1754.html', 'Inter Extreme Points Geodesics for End-to-End Weakly Supervised Image Segmentation')\n",
      "248 531 ('2021/09/01/249-Paper0739.html', 'Interactive segmentation via deep learning and B-spline explicit active surfaces')\n"
     ]
    },
    {
     "name": "stdout",
     "output_type": "stream",
     "text": [
      "249 531 ('2021/09/01/250-Paper0425.html', 'Interactive smoothing parameter optimization in DBT Reconstruction using Deep learning')\n",
      "250 531 ('2021/09/01/251-Paper1892.html', 'Interhemispheric functional connectivity in the primary motor cortex distinguishes between training on a physical and a virtual surgical simulator')\n",
      "251 531 ('2021/09/01/252-Paper1908.html', 'Interpretable deep learning for multimodal super-resolution of medical images')\n",
      "252 531 ('2021/09/01/253-Paper1243.html', 'Interpretable gender classification from retinal fundus images using BagNets')\n",
      "253 531 ('2021/09/01/254-Paper2287.html', 'Inter-Regional High-level Relation Learning from Functional Connectivity via Self-Supervision')\n",
      "254 531 ('2021/09/01/255-Paper0306.html', 'Intracerebral Haemorrhage Growth Prediction Based on Displacement Vector Field and Clinical Metadata')\n",
      "255 531 ('2021/09/01/256-Paper2314.html', 'Intra-operative Update of Boundary Conditions for Patient-specific Surgical Simulation')\n",
      "256 531 ('2021/09/01/257-Paper0236.html', 'IREM: High-Resolution Magnetic Resonance Image Reconstruction via Implicit Neural Representation')\n",
      "257 531 ('2021/09/01/258-Paper0988.html', 'I-SECRET: Importance-guided fundus image enhancement via semi-supervised contrastive constraining')\n",
      "258 531 ('2021/09/01/259-Paper0821.html', 'Joint Motion Correction and Super Resolution for Cardiac Segmentation via Latent Optimisation')\n",
      "259 531 ('2021/09/01/260-Paper0475.html', 'Joint Optimization of Hadamard Sensing and Reconstruction in Compressed Sensing Fluorescence Microscopy')\n",
      "260 531 ('2021/09/01/261-Paper2622.html', 'Joint PVL Detection and Manual Ability Classification using Semi-Supervised Multi-task Learning')\n",
      "261 531 ('2021/09/01/262-Paper1098.html', 'Joint Segmentation and Quantification of Main Coronary Vessels Using Dual-branch Multi-scale Attention Network')\n",
      "262 531 ('2021/09/01/263-Paper1159.html', 'Joint Spinal Centerline Extraction and Curvature Estimation with Row-wise Classification and Curve Graph Network')\n",
      "263 531 ('2021/09/01/264-Paper0817.html', 'kCBAC-Net: Deeply Supervised Complete Bipartite Networks with Asymmetric Convolutions for Medical Image Segmentation')\n",
      "264 531 ('2021/09/01/265-Paper1581.html', 'Label-Free Physics-Informed Image Sequence Reconstruction with Disentangled Spatial-Temporal Modeling')\n",
      "265 531 ('2021/09/01/266-Paper1955.html', 'Labels-set Loss Functions for Partial Supervision: Application to Fetal Brain 3D MRI Parcellation')\n",
      "266 531 ('2021/09/01/267-Paper2447.html', 'LambdaUNet: 2.5D Stroke Lesion Segmentation of Diffusion-weighted MR Images')\n",
      "267 531 ('2021/09/01/268-Paper1167.html', 'LDPolypVideo Benchmark: A Large-scale Colonoscopy Video Dataset of Diverse Polyps')\n",
      "268 531 ('2021/09/01/269-Paper1189.html', 'Learnable Multi-scale Fourier Interpolation for Sparse View CT Image Reconstruction')\n",
      "269 531 ('2021/09/01/270-Paper2375.html', 'Learnable Oriented-Derivative Network for Polyp Segmentation')\n",
      "270 531 ('2021/09/01/271-Paper1786.html', 'Learned super resolution ultrasound for improved breast lesion characterization')\n",
      "271 531 ('2021/09/01/272-Paper2149.html', 'Learning 4D Infant Cortical Surface Atlas with Unsupervised Spherical Networks')\n",
      "272 531 ('2021/09/01/273-Paper0601.html', 'Learning Consistency- and Discrepancy-Context for 2D Organ Segmentation')\n",
      "273 531 ('2021/09/01/274-Paper1370.html', 'Learning Dual Transformer Network for Diffeomorphic Registration')\n",
      "274 531 ('2021/09/01/275-Paper0754.html', 'Learning from Subjective Ratings Using Auto-Decoded Deep Latent Embeddings')\n",
      "275 531 ('2021/09/01/276-Paper0530.html', 'Learning More for Free - A Multi Task Learning Approach for Improved Pathology Classification in Capsule Endoscopy')\n",
      "276 531 ('2021/09/01/277-Paper0902.html', 'Learning Neuron Stitching for Connectomics')\n",
      "277 531 ('2021/09/01/278-Paper2019.html', 'Learning Spatiotemporal Probabilistic Atlas of Fetal Brains with Anatomically Constrained Registration Network')\n",
      "278 531 ('2021/09/01/279-Paper1516.html', 'Learning to Address Intra-segment Misclassification in Retinal Imaging')\n",
      "279 531 ('2021/09/01/280-Paper1009.html', 'Learning to Predict Error for MRI Reconstruction')\n",
      "280 531 ('2021/09/01/281-Paper0337.html', 'Learning Unsupervised Parameter-specific Affine Transformation for Medical Images Registration')\n",
      "281 531 ('2021/09/01/282-Paper1670.html', 'Learning Visual Features by Colorization for Slide-Consistent Survival Prediction from Whole Slide Images')\n",
      "282 531 ('2021/09/01/283-Paper1893.html', 'Learning Whole-Slide Segmentation from Inexact and Incomplete Labels using Tissue Graphs')\n",
      "283 531 ('2021/09/01/284-Paper1662.html', 'Learning with Noise: Mask-guided Attention Model for Weakly Supervised Nuclei Segmentation')\n",
      "284 531 ('2021/09/01/285-Paper0639.html', 'Learning-based attenuation quantification in abdominal ultrasound')\n",
      "285 531 ('2021/09/01/286-Paper0903.html', 'LensID: A CNN-RNN-Based Framework Towards Lens Irregularity Detection in Cataract Surgery Videos')\n",
      "286 531 ('2021/09/01/287-Paper0113.html', 'Lesion Segmentation and RECIST Diameter Prediction via Click-driven Attention and Dual-path Connection')\n",
      "287 531 ('2021/09/01/288-Paper0730.html', 'Lesion-based Contrastive Learning for Diabetic Retinopathy Grading from Fundus Images')\n",
      "288 531 ('2021/09/01/289-Paper0088.html', 'Leveraging Auxiliary Information from EMR for Weakly Supervised Pulmonary Nodule Detection')\n",
      "289 531 ('2021/09/01/290-Paper0533.html', 'LG-Net: Lesion Gate Network for Multiple Sclerosis Lesion Inpainting')\n",
      "290 531 ('2021/09/01/291-Paper1556.html', 'LIFE: A Generalizable Autodidactic Pipeline for 3D OCT-A Vessel Segmentation')\n",
      "291 531 ('2021/09/01/292-Paper2340.html', \"Linear Prediction Residual for Efficient Diagnosis of Parkinson's Disease from Gait\")\n",
      "292 531 ('2021/09/01/293-Paper1822.html', 'Local Morphological Measures Confirm that Folding within Small Partitions of the Human Cortex Follows Universal Scaling Law')\n",
      "293 531 ('2021/09/01/294-Paper0778.html', 'Local-global Dual Perception based Deep Multiple Instance Learning for Retinal Disease Classification')\n",
      "294 531 ('2021/09/01/295-Paper0761.html', 'Longitudinal Correlation Analysis for Decoding Multi-Modal Brain Development')\n",
      "295 531 ('2021/09/01/296-Paper0346.html', 'Longitudinal Quantitative Assessment of COVID-19 Infection Progression from Chest CTs')\n",
      "296 531 ('2021/09/01/297-Paper1497.html', 'Longitudinal self-supervision to disentangle inter-patient variability from disease progression')\n",
      "297 531 ('2021/09/01/298-Paper2540.html', 'LuMiRa: An Integrated Lung Deformation Atlas and 3D-CNN model of Infiltrates for COVID-19 Prognosis')\n",
      "298 531 ('2021/09/01/299-Paper0117.html', 'Lung Cancer Risk Estimation with Incomplete Data: A Joint Missing Imputation Perspective')\n",
      "299 531 ('2021/09/01/300-Paper1048.html', 'MASC-Units: Training Oriented Filters for Segmenting Curvilinear Structures')\n",
      "300 531 ('2021/09/01/301-Paper0934.html', 'MBFF-Net: Multi-Branch Feature Fusion Network for Carotid Plaque Segmentation in Ultrasound')\n",
      "301 531 ('2021/09/01/302-Paper0179.html', 'Medical Image Registration Based on Uncoupled Learning and Accumulative Enhancement')\n",
      "302 531 ('2021/09/01/303-Paper0097.html', 'Medical Matting: A New Perspective on Medical Segmentation with Uncertainty')\n",
      "303 531 ('2021/09/01/304-Paper0116.html', 'Medical Transformer: Gated Axial-Attention for Medical Image Segmentation')\n",
      "304 531 ('2021/09/01/305-Paper2251.html', 'Memory-efficient Learning for High-dimensional MRI Reconstruction')\n",
      "305 531 ('2021/09/01/306-Paper1608.html', 'MetaCon: Meta Contrastive Learning for Microsatellite Instability Detection')\n",
      "306 531 ('2021/09/01/307-Paper1681.html', 'Meta-Modulation Network for Domain Generalization in Multi-site fMRI Classification')\n",
      "307 531 ('2021/09/01/308-Paper0111.html', 'mfTrans-Net: Quantitative Measurement of Hepatocellular Carcinoma via Multi-Function Transformer Regression Network')\n",
      "308 531 ('2021/09/01/309-Paper2223.html', 'MG-NET: Leveraging Pseudo-Imaging for Multi-Modal Metagenome Analysis')\n",
      "309 531 ('2021/09/01/310-Paper0776.html', 'MIL-VT: Multiple Instance Learning Enhanced Vision Transformer for Fundus Image Classification')\n",
      "310 531 ('2021/09/01/311-Paper1391.html', 'Modality Completion via Gaussian Process Prior Variational Autoencoders for Multi-Modal Glioma Segmentation')\n"
     ]
    },
    {
     "name": "stdout",
     "output_type": "stream",
     "text": [
      "311 531 ('2021/09/01/312-Paper1888.html', 'Modality-aware Mutual Learning for Multi-modal Medical Image Segmentation')\n",
      "312 531 ('2021/09/01/313-Paper2299.html', 'MorphSet: Improving Renal Histopathology Case Assessment Through Learned Prognostic Vectors')\n",
      "313 531 ('2021/09/01/314-Paper0948.html', 'Motion Correction for Liver DCE-MRI with Time-Intensity Curve Constraint')\n",
      "314 531 ('2021/09/01/315-Paper1374.html', 'MouseGAN: GAN-Based Multiple MRI Modalities Synthesis and Segmentation for Mouse Brain Structures')\n",
      "315 531 ('2021/09/01/316-Paper1934.html', 'MRI Super-Resolution Through Generative Degradation Learning')\n",
      "316 531 ('2021/09/01/317-Paper0251.html', 'M-SEAM-NAM: Multi-instance Self-supervised Equivalent Attention Mechanism with Neighborhood Affinity Module for Double Weakly Supervised Segmentation of COVID-19')\n",
      "317 531 ('2021/09/01/318-Paper0678.html', 'MT-UDA: Towards Unsupervised Cross-Modality Medical Image Segmentation with Limited Source Labels')\n",
      "318 531 ('2021/09/01/319-Paper0786.html', 'Multi-Compound Transformer for Accurate  Biomedical Image Segmentation')\n",
      "319 531 ('2021/09/01/320-Paper0539.html', 'Multi-Contrast MRI Super-Resolution via a Multi-Stage Integration Network')\n",
      "320 531 ('2021/09/01/321-Paper0822.html', 'Multi-frame Attention Network for Left Ventricle Segmentation in 3D Echocardiography')\n",
      "321 531 ('2021/09/01/322-Paper0906.html', 'Multi-frame Collaboration for Effective Endoscopic Video Polyp Detection via Spatial-Temporal Feature Transformation')\n",
      "322 531 ('2021/09/01/323-Paper0835.html', 'Multi-Head GAGNN: A Multi-Head Guided Attention Graph Neural Network for Modeling Spatio-Temporal Patterns of Holistic Brain Functional Networks')\n",
      "323 531 ('2021/09/01/324-Paper0270.html', 'Multi-level Relationship Capture Network for Automated Skin Lesion Recognition')\n",
      "324 531 ('2021/09/01/325-Paper1352.html', 'Multimodal MRI Acceleration via Deep Cascading Networks with Peer-layer-wise Dense Connections')\n",
      "325 531 ('2021/09/01/326-Paper0937.html', 'Multi-modal Multi-instance Learning using Weakly Correlated Histopathological Images and Tabular Clinical Information')\n",
      "326 531 ('2021/09/01/327-Paper2326.html', 'Multimodal Multitask Deep Learning for X-Ray Image Retrieval')\n",
      "327 531 ('2021/09/01/328-Paper2195.html', 'Multimodal Representation Learning via Maximization of Local Mutual Information')\n",
      "328 531 ('2021/09/01/329-Paper0398.html', 'Multimodal Sensing Guidewire for C-arm Navigation with Random UV Enhanced Optical Sensors using Spatio-temporal Networks')\n",
      "329 531 ('2021/09/01/330-Paper0198.html', 'Multi-phase Liver Tumor Segmentation with Spatial Aggregation and Uncertain Region Inpainting')\n",
      "330 531 ('2021/09/01/331-Paper2077.html', 'Multiple Instance Learning with Auxiliary Task Weighting for Multiple Myeloma Classification')\n",
      "331 531 ('2021/09/01/332-Paper0066.html', 'Multiple Meta-model Quantifying for Medical Visual Question Answering')\n",
      "332 531 ('2021/09/01/333-Paper2598.html', 'Multi-scale Neural ODEs for 3D Medical Image Registration')\n",
      "333 531 ('2021/09/01/334-Paper0565.html', 'Multi-site Incremental Image Quality Assessment of Structural MRI via Consensus Adversarial Representation Adaptation')\n",
      "334 531 ('2021/09/01/335-Paper1677.html', 'Multi-StyleGAN: Towards Image-Based Simulation of Time-Lapse Live-Cell Microscopy')\n",
      "335 531 ('2021/09/01/336-Paper0521.html', 'Multi-Task, Multi-Domain Deep Segmentation with Shared Representations and Contrastive Regularization for Sparse Pediatric Datasets')\n",
      "336 531 ('2021/09/01/337-Paper1007.html', 'Multi-view analysis of unregistered medical images using cross-view transformers')\n",
      "337 531 ('2021/09/01/338-Paper1533.html', 'Multi-View Surgical Video Action Detection via Mixed Global View Attention')\n",
      "338 531 ('2021/09/01/339-Paper1138.html', 'Neighbor Matching for Semi-supervised Learning')\n",
      "339 531 ('2021/09/01/340-Paper1502.html', 'Nesterov Accelerated ADMM for Fast Diffeomorphic Image Registration')\n",
      "340 531 ('2021/09/01/341-Paper1836.html', 'nnDetection: A Self-configuring Method for Medical Object Detection')\n",
      "341 531 ('2021/09/01/342-Paper0633.html', 'Noise Mapping and Removal in Complex-Valued Multi-Channel MRI via Optimal Shrinkage of Singular Values')\n",
      "342 531 ('2021/09/01/343-Paper0008.html', 'Noisy Labels are Treasure: Mean-Teacher-Assisted Confident Learning for Hepatic Vessel Segmentation')\n",
      "343 531 ('2021/09/01/344-Paper1862.html', 'Non-invasive Assessment of Hepatic Venous Pressure Gradient (HVPG) Based on MR Flow Imaging and Computational Fluid Dynamics')\n",
      "344 531 ('2021/09/01/345-Paper1460.html', 'Non-parametric vignetting correction for sparse spatial transcriptomics images')\n",
      "345 531 ('2021/09/01/346-Paper0136.html', 'Nuclei Grading of Clear Cell Renal Cell Carcinoma in Histopathological Image by Composite High-Resolution Network')\n",
      "346 531 ('2021/09/01/347-Paper0436.html', 'NucMM Dataset: 3D Neuronal Nuclei Instance Segmentation at Sub-Cubic Millimeter Scale')\n",
      "347 531 ('2021/09/01/348-Paper1584.html', 'Observational Supervision for Medical Image Classification using Gaze Data')\n",
      "348 531 ('2021/09/01/349-Paper1751.html', 'OLVA: Optimal Latent Vector Alignment for Unsupervised Domain Adaptation in Medical Image Segmentation')\n",
      "349 531 ('2021/09/01/350-Paper2115.html', 'On the relationship between calibrated predictors and unbiased volume estimation')\n",
      "350 531 ('2021/09/01/351-Paper1110.html', 'One-Shot Medical Landmark Detection')\n",
      "351 531 ('2021/09/01/352-Paper0235.html', 'OperA: Attention-Regularized Transformers for Surgical Phase Recognition')\n",
      "352 531 ('2021/09/01/353-Paper1718.html', 'Order-Guided Disentangled Representation Learning for Ulcerative Colitis Classification with Limited Labels')\n",
      "353 531 ('2021/09/01/354-Paper0969.html', 'Orthogonal Ensemble Networks for Biomedical Image Segmentation')\n",
      "354 531 ('2021/09/01/355-Paper0096.html', 'Over-and-Under Complete Convolutional RNN for MRI Reconstruction')\n",
      "355 531 ('2021/09/01/356-Paper0301.html', 'OXnet: Deep Omni-supervised Thoracic Disease Detection from Chest X-rays')\n",
      "356 531 ('2021/09/01/357-Paper2481.html', 'PAC Bayesian Performance Guarantees for (Stochastic) Deep Networks in Medical Imaging')\n",
      "357 531 ('2021/09/01/358-Paper0069.html', 'Pancreas CT Segmentation by Predictive Phenotyping')\n",
      "358 531 ('2021/09/01/359-Paper1054.html', 'Parallel Capsule Networks for Classification of White Blood Cells')\n",
      "359 531 ('2021/09/01/360-Paper0608.html', 'Partial-supervised Learning for Vessel Segmentation in Ocular Images ')\n",
      "360 531 ('2021/09/01/361-Paper0315.html', 'Patch-Free 3D Medical Image Segmentation Driven by Super-Resolution Technique and Self-Supervised Guidance')\n",
      "361 531 ('2021/09/01/362-Paper1766.html', 'Patient-specific virtual spine straightening and vertebra inpainting: An automatic framework for osteoplasty planning')\n",
      "362 531 ('2021/09/01/363-Paper2416.html', 'Pay Attention with Focus: A Novel Learning Scheme for Classification of Whole Slide Images')\n",
      "363 531 ('2021/09/01/364-Paper1644.html', 'Perceptual Quality Assessment of Chest Radiograph')\n",
      "364 531 ('2021/09/01/365-Paper1001.html', 'Personalized CT Organ Dose Estimation from Scout Images')\n",
      "365 531 ('2021/09/01/366-Paper2168.html', 'Personalized Matching and Analysis of Cortical Folding Patterns via Patch-Based Intrinsic Brain Mapping')\n",
      "366 531 ('2021/09/01/367-Paper0291.html', 'Personalized Respiratory Motion Model Using Conditional Generative Networks for MR-Guided Radiotherapy')\n",
      "367 531 ('2021/09/01/368-Paper1293.html', 'Personalized Retrogress-Resilient Framework for Real-World Medical Federated Learning')\n",
      "368 531 ('2021/09/01/369-Paper1929.html', 'Phase-independent Latent Representation for Cardiac Shape Analysis')\n",
      "369 531 ('2021/09/01/370-Paper2053.html', 'Point-Unet: A Context-aware Point-based Neural Network for Volumetric Segmentation')\n",
      "370 531 ('2021/09/01/371-Paper0314.html', 'POPCORN: Progressive Pseudo-labeling with Consistency Regularization and Neighboring')\n",
      "371 531 ('2021/09/01/372-Paper1432.html', 'Positional Contrastive Learning for Volumetric Medical Image Segmentation')\n",
      "372 531 ('2021/09/01/373-Paper0506.html', 'Positive-unlabeled Learning for Cell Detection in Histopathology Images with Incomplete Annotations')\n",
      "373 531 ('2021/09/01/374-Paper0245.html', 'Predicting Esophageal Fistula Risks Using a Multimodal Self-Attention Network')\n"
     ]
    },
    {
     "name": "stdout",
     "output_type": "stream",
     "text": [
      "374 531 ('2021/09/01/375-Paper1325.html', 'Predicting Symptoms from Multiphasic MRI via Multi-Instance Attention Learning for Hepatocellular Carcinoma Grading')\n",
      "375 531 ('2021/09/01/376-Paper2471.html', 'Primary Tumor and Inter-Organ Augmentations for Supervised Lymph Node Colon Adenocarcinoma Metastasis Detection')\n",
      "376 531 ('2021/09/01/377-Paper1741.html', 'Pristine annotations-based multi-modal trained artificial intelligence solution to triage chest X-Ray for COVID19')\n",
      "377 531 ('2021/09/01/378-Paper0320.html', 'Progressively Normalized Self-Attention Network for Video Polyp Segmentation')\n",
      "378 531 ('2021/09/01/379-Paper1510.html', 'Projection-wise Disentangling for Fair and Interpretable Representation Learning: Application to 3D Facial Shape Analysis')\n",
      "379 531 ('2021/09/01/380-Paper1305.html', 'Projective Skip-Connections for Segmentation Along a Subset of Dimensions in Retinal OCT')\n",
      "380 531 ('2021/09/01/381-Paper1809.html', 'Prototypical Interaction Graph for Unsupervised Domain Adaptation in Surgical Instrument Segmentation')\n",
      "381 531 ('2021/09/01/382-Paper0386.html', 'Prototypical models for classifying high-risk atypical breast lesions')\n",
      "382 531 ('2021/09/01/383-Paper2533.html', 'Q-space Conditioned Translation Networks for Directional Synthesis of Diffusion Weighted Images from Multi-modal Structural MRI')\n",
      "383 531 ('2021/09/01/384-Paper0663.html', 'Quality-Aware Memory Network for Interactive Volumetric Image Segmentation')\n",
      "384 531 ('2021/09/01/385-Paper2484.html', 'Quantifying structural connectivity in brain tumor patients')\n",
      "385 531 ('2021/09/01/386-Paper2117.html', 'Quantitative Assessments for Ultrasound Probe Calibration')\n",
      "386 531 ('2021/09/01/387-Paper2491.html', 'Radiomics-informed Deep Curriculum Learning for Breast Cancer Diagnosis')\n",
      "387 531 ('2021/09/01/388-Paper1075.html', 'Ranking loss: A ranking-based deep neural network for colorectal cancer grading in pathology images')\n",
      "388 531 ('2021/09/01/389-Paper2581.html', 'Rapid treatment planning for low-dose-rate prostate brachytherapy with TP-GAN')\n",
      "389 531 ('2021/09/01/390-Paper1026.html', 'RATCHET: Medical Transformer for Chest X-ray Diagnosis and Reporting')\n",
      "390 531 ('2021/09/01/391-Paper0572.html', 'Real-Time Mapping of Tissue Properties for Magnetic Resonance Fingerprinting')\n",
      "391 531 ('2021/09/01/392-Paper1461.html', 'Real-Time Rotated Convolutional Descriptor for Surgical Environments')\n",
      "392 531 ('2021/09/01/393-Paper0149.html', 'Reciprocal Learning for Semi-supervised Segmentation')\n",
      "393 531 ('2021/09/01/394-Paper1171.html', 'Recurrent Multigraph Integrator Network for Predicting the Evolution of Population-Driven Brain Connectivity Templates')\n",
      "394 531 ('2021/09/01/395-Paper1034.html', 'Reference-Relation Guided Autoencoder with Deep CCA Restriction for Awake-to-Sleep Brain Functional Connectome Prediction')\n",
      "395 531 ('2021/09/01/396-Paper1200.html', 'Refined Local-imbalance-based Weight for Airway Segmentation in CT')\n",
      "396 531 ('2021/09/01/397-Paper0599.html', 'Region Ensemble Network for MCI Conversion Prediction With a Relation Regularized Loss')\n",
      "397 531 ('2021/09/01/398-Paper0071.html', 'Relational Subsets Knowledge Distillation for Long-tailed Retinal Diseases Recognition')\n",
      "398 531 ('2021/09/01/399-Paper2045.html', 'Renal Cell Carcinoma Classification from Vascular Morphology')\n"
     ]
    },
    {
     "ename": "AttributeError",
     "evalue": "'NoneType' object has no attribute 'text'",
     "output_type": "error",
     "traceback": [
      "\u001b[1;31m---------------------------------------------------------------------------\u001b[0m",
      "\u001b[1;31mAttributeError\u001b[0m                            Traceback (most recent call last)",
      "\u001b[1;32m~\\AppData\\Local\\Temp/ipykernel_9336/2757740394.py\u001b[0m in \u001b[0;36m<module>\u001b[1;34m\u001b[0m\n\u001b[0;32m     30\u001b[0m     \u001b[1;32mfor\u001b[0m \u001b[0mx\u001b[0m \u001b[1;32min\u001b[0m \u001b[0msoup\u001b[0m\u001b[1;33m.\u001b[0m\u001b[0mfind_all\u001b[0m\u001b[1;33m(\u001b[0m\u001b[1;34m'li'\u001b[0m\u001b[1;33m)\u001b[0m\u001b[1;33m:\u001b[0m\u001b[1;33m\u001b[0m\u001b[1;33m\u001b[0m\u001b[0m\n\u001b[0;32m     31\u001b[0m         \u001b[1;32mif\u001b[0m \u001b[1;34m'Please rate the clarity and organization of this paper'\u001b[0m \u001b[1;32min\u001b[0m \u001b[0mx\u001b[0m\u001b[1;33m.\u001b[0m\u001b[0mtext\u001b[0m\u001b[1;33m:\u001b[0m\u001b[1;33m\u001b[0m\u001b[1;33m\u001b[0m\u001b[0m\n\u001b[1;32m---> 32\u001b[1;33m             \u001b[1;32mif\u001b[0m \u001b[0mx\u001b[0m\u001b[1;33m.\u001b[0m\u001b[0mfind\u001b[0m\u001b[1;33m(\u001b[0m\u001b[1;34m'p'\u001b[0m\u001b[1;33m)\u001b[0m\u001b[1;33m.\u001b[0m\u001b[0mtext\u001b[0m \u001b[1;32mis\u001b[0m \u001b[1;32mNone\u001b[0m\u001b[1;33m:\u001b[0m\u001b[1;33m\u001b[0m\u001b[1;33m\u001b[0m\u001b[0m\n\u001b[0m\u001b[0;32m     33\u001b[0m                 \u001b[1;32mcontinue\u001b[0m\u001b[1;33m\u001b[0m\u001b[1;33m\u001b[0m\u001b[0m\n\u001b[0;32m     34\u001b[0m             \u001b[0mclarity_and_organization\u001b[0m\u001b[1;33m.\u001b[0m\u001b[0mappend\u001b[0m\u001b[1;33m(\u001b[0m\u001b[0mx\u001b[0m\u001b[1;33m.\u001b[0m\u001b[0mfind\u001b[0m\u001b[1;33m(\u001b[0m\u001b[1;34m'p'\u001b[0m\u001b[1;33m)\u001b[0m\u001b[1;33m.\u001b[0m\u001b[0mtext\u001b[0m\u001b[1;33m)\u001b[0m\u001b[1;33m\u001b[0m\u001b[1;33m\u001b[0m\u001b[0m\n",
      "\u001b[1;31mAttributeError\u001b[0m: 'NoneType' object has no attribute 'text'"
     ]
    }
   ],
   "source": [
    "paper_metadata = {}\n",
    "for i, paper in enumerate(paper_list):\n",
    "    print(i, len(paper_list), paper)\n",
    "    paper_name = paper[1]\n",
    "    paper_url = miccai_base_url + paper[0]\n",
    "    \n",
    "    req = urllib2.Request(paper_url, headers=headers)\n",
    "    page = urllib2.urlopen(req)\n",
    "    content = page.read()\n",
    "    \n",
    "    \n",
    "    soup = BeautifulSoup(content, 'html.parser')\n",
    "    \n",
    "    post_categories = soup.find('div', attrs= {'class', 'post-categories'})\n",
    "    category_soup = post_categories.find_all('a', attrs={'class':'post-category'})\n",
    "    \n",
    "    paper_categories = set()\n",
    "    for category in category_soup:\n",
    "        paper_categories.add(category.text.strip())\n",
    "    \n",
    "    \n",
    "    code_element = soup.find('h1', attrs={'id':'code-id'})\n",
    "    code_url = code_element.findNext('p').text.strip()\n",
    "    if code_url == 'N/A':\n",
    "        code_url = None\n",
    "    \n",
    "    \n",
    "    \n",
    "    clarity_and_organization = []\n",
    "    for x in soup.find_all('li'):\n",
    "        if 'Please rate the clarity and organization of this paper' in x.text:\n",
    "            if x.find('p').text is None:\n",
    "                continue      \n",
    "            clarity_and_organization.append(x.find('p').text)\n",
    "    \n",
    "    overall_opinion = []\n",
    "    for x in soup.find_all('li'):\n",
    "        if 'Please state your overall opinion of the paper' in x.text:\n",
    "            if x.find('p').text is None:\n",
    "                continue  \n",
    "            overall_opinion.append(float(x.find('p').text.split(' ')[-1].replace('(','').replace(')','')))\n",
    "    \n",
    "    reviewer_confidence = []\n",
    "    for x in soup.find_all('li'):\n",
    "        if 'Reviewer confidence' in x.text:\n",
    "            if x.find('p').text is None:\n",
    "                continue  \n",
    "            reviewer_confidence.append(x.find('p').text)\n",
    "               \n",
    "    ranking_of_paper_in_stack = []\n",
    "    for x in soup.find_all('li'):\n",
    "        if 'What is the ranking of this paper in your review stack?' in x.text:\n",
    "            if x.find('p').text is None:\n",
    "                continue  \n",
    "            ranking_of_paper_in_stack.append(float(x.find('p').text))\n",
    "            \n",
    "            \n",
    "    number_of_papers_in_stack = []\n",
    "    for x in soup.find_all('li'):\n",
    "        if 'Number of papers in your stack' in x.text:\n",
    "            if x.find('p').text is None:\n",
    "                continue  \n",
    "            number_of_papers_in_stack.append(float(x.find('p').text))\n",
    "            \n",
    "            \n",
    "    paper_metadata[paper] = {}\n",
    "    paper_metadata[paper]['paper_categories'] = paper_categories\n",
    "    paper_metadata[paper]['clarity_and_organization'] = clarity_and_organization\n",
    "    paper_metadata[paper]['overall_opinion'] = overall_opinion\n",
    "    paper_metadata[paper]['reviewer_confidence'] = reviewer_confidence\n",
    "    paper_metadata[paper]['ranking_of_paper_in_stack'] = ranking_of_paper_in_stack\n",
    "    paper_metadata[paper]['number_of_papers_in_stack'] = number_of_papers_in_stack\n",
    "    paper_metadata[paper]['code_url'] = code_url\n",
    "    paper_metadata[paper]['paper_url'] = paper_url\n",
    "    \n",
    "    \n",
    "    \n",
    "\n"
   ]
  },
  {
   "cell_type": "code",
   "execution_count": null,
   "id": "a437c53d",
   "metadata": {},
   "outputs": [],
   "source": []
  },
  {
   "cell_type": "code",
   "execution_count": 168,
   "id": "c3bf89d9",
   "metadata": {},
   "outputs": [
    {
     "name": "stdout",
     "output_type": "stream",
     "text": [
      "<li><strong>Please rate the clarity and organization of this paper</strong>\n",
      "<blockquote>\n",
      "<p>Excellent</p>\n",
      "</blockquote>\n",
      "</li>\n",
      "<li><strong>Please rate the clarity and organization of this paper</strong>\n",
      "<blockquote>\n",
      "<p>Excellent</p>\n",
      "</blockquote>\n",
      "</li>\n",
      "<li><strong>Please rate the clarity and organization of this paper</strong>\n",
      "<blockquote>\n",
      "<p>Good</p>\n",
      "</blockquote>\n",
      "</li>\n",
      "<li><strong>Please rate the clarity and organization of this paper</strong>\n",
      "<blockquote>\n",
      "<p>Very Good</p>\n",
      "</blockquote>\n",
      "</li>\n",
      "<li>there are several missing information and explanation in the manuscript: certainly, several details on experimental settings are missing (as mentioned by several reviewers), but it is not a weakness that prevents the method from being understood and evaluated, as stated by other reviewers: see excerpts below:\n",
      "“4. Please rate the clarity and organization of this paper\n",
      "Excellent\n",
      "…\n",
      "Very Good”\n",
      "“- The paper is well-written and is a pleasure to read.”\n",
      "“The info about the dataset (class distribution, etc) is well-laid out.”\n",
      "“The description and technical decision for each part of the paper is quite clear.”</li>\n"
     ]
    }
   ],
   "source": [
    " for x in soup.find_all('li'):\n",
    "        if 'Please rate the clarity and organization of this paper' in x.text:\n",
    "            print(x)"
   ]
  },
  {
   "cell_type": "code",
   "execution_count": null,
   "id": "c924bb05",
   "metadata": {},
   "outputs": [],
   "source": []
  },
  {
   "cell_type": "code",
   "execution_count": 166,
   "id": "10f6f275",
   "metadata": {},
   "outputs": [
    {
     "data": {
      "text/plain": [
       "'https://miccai2021.org/openaccess/paperlinks/2021/09/01/005-Paper0364.html'"
      ]
     },
     "execution_count": 166,
     "metadata": {},
     "output_type": "execute_result"
    }
   ],
   "source": [
    "paper_url"
   ]
  },
  {
   "cell_type": "code",
   "execution_count": 165,
   "id": "a7ddf0b9",
   "metadata": {},
   "outputs": [
    {
     "data": {
      "text/plain": [
       "{('2021/09/01/001-Paper1891.html',\n",
       "  '2.5D Thermometry Maps for MRI-guided Tumor Ablation'): {'paper_categories': {'Image Reconstruction',\n",
       "   'Image-Guided Interventions and Surgery',\n",
       "   'Modalities - MRI',\n",
       "   'Outcome/disease prediction'},\n",
       "  'clarity_and_organization': ['Good', 'Good', 'Good'],\n",
       "  'overall_opinion': [7.0, 5.0, 7.0],\n",
       "  'reviewer_confidence': ['Confident but not absolutely certain',\n",
       "   'Confident but not absolutely certain',\n",
       "   'Confident but not absolutely certain'],\n",
       "  'ranking_of_paper_in_stack': [2.0, 3.0, 5.0],\n",
       "  'number_of_papers_in_stack': [3.0, 3.0, 2.0],\n",
       "  'code_url': 'https://github.com/jalpers/2.5DThermometryReconstruction',\n",
       "  'paper_url': 'https://miccai2021.org/openaccess/paperlinks/2021/09/01/001-Paper1891.html'},\n",
       " ('2021/09/01/002-Paper0547.html',\n",
       "  '2D Histology Meets 3D Topology: Cytoarchitectonic Brain Mapping with Graph Neural Networks'): {'paper_categories': {'Image Segmentation',\n",
       "   'Modalities - Microscopy'},\n",
       "  'clarity_and_organization': ['Good', 'Satisfactory', 'Good', 'Good'],\n",
       "  'overall_opinion': [7.0, 4.0, 8.0, 7.0],\n",
       "  'reviewer_confidence': ['Somewhat confident',\n",
       "   'Confident but not absolutely certain',\n",
       "   'Somewhat confident',\n",
       "   'Very confident'],\n",
       "  'ranking_of_paper_in_stack': [5.0, 7.0, 2.0, 3.0],\n",
       "  'number_of_papers_in_stack': [3.0, 7.0, 7.0, 8.0],\n",
       "  'code_url': 'https://jugit.fz-juelich.de/c.schiffer/miccai2021_2d_histology_meets_3d_topology',\n",
       "  'paper_url': 'https://miccai2021.org/openaccess/paperlinks/2021/09/01/002-Paper0547.html'},\n",
       " ('2021/09/01/003-Paper1706.html',\n",
       "  '3D Brain Midline Delineation for Hematoma Patients'): {'paper_categories': {'Computer Aided Diagnosis',\n",
       "   'Image Segmentation',\n",
       "   'Image-Guided Interventions and Surgery',\n",
       "   'Modalities - CT',\n",
       "   'Surgical Planning and Simulation'},\n",
       "  'clarity_and_organization': ['Very Good', 'Very Good', 'Good'],\n",
       "  'overall_opinion': [8.0, 8.0, 5.0],\n",
       "  'reviewer_confidence': ['Very confident',\n",
       "   'Very confident',\n",
       "   'Confident but not absolutely certain'],\n",
       "  'ranking_of_paper_in_stack': [2.0, 2.0, 4.0],\n",
       "  'number_of_papers_in_stack': [5.0, 5.0, 4.0],\n",
       "  'code_url': None,\n",
       "  'paper_url': 'https://miccai2021.org/openaccess/paperlinks/2021/09/01/003-Paper1706.html'},\n",
       " ('2021/09/01/004-Paper0943.html',\n",
       "  '3D Graph-S2Net: Shape-Aware Self-Ensembling Network for Semi-Supervised Segmentation with Bilateral Graph Convolution'): {'paper_categories': {'Image Segmentation',\n",
       "   'Machine Learning - Semi-supervised learning'},\n",
       "  'clarity_and_organization': ['Satisfactory', 'Very Good', 'Very Good'],\n",
       "  'overall_opinion': [4.0, 8.0, 8.0],\n",
       "  'reviewer_confidence': ['Confident but not absolutely certain',\n",
       "   'Confident but not absolutely certain',\n",
       "   'Confident but not absolutely certain'],\n",
       "  'ranking_of_paper_in_stack': [3.0, 1.0, 1.0],\n",
       "  'number_of_papers_in_stack': [5.0, 5.0, 5.0],\n",
       "  'code_url': None,\n",
       "  'paper_url': 'https://miccai2021.org/openaccess/paperlinks/2021/09/01/004-Paper0943.html'}}"
      ]
     },
     "execution_count": 165,
     "metadata": {},
     "output_type": "execute_result"
    }
   ],
   "source": [
    "paper_metadata"
   ]
  },
  {
   "cell_type": "code",
   "execution_count": null,
   "id": "ddae729d",
   "metadata": {},
   "outputs": [],
   "source": []
  },
  {
   "cell_type": "code",
   "execution_count": null,
   "id": "54f6090a",
   "metadata": {},
   "outputs": [],
   "source": []
  },
  {
   "cell_type": "code",
   "execution_count": 126,
   "id": "70560b5d",
   "metadata": {},
   "outputs": [
    {
     "name": "stdout",
     "output_type": "stream",
     "text": [
      "https://miccai2021.org/openaccess/paperlinks/2021/09/01/001-Paper1891.html\n"
     ]
    }
   ],
   "source": [
    "\n",
    "paper = paper_list[0]\n",
    "paper_url = miccai_base_url + paper[0]\n",
    "print(paper_url)"
   ]
  },
  {
   "cell_type": "code",
   "execution_count": null,
   "id": "df3261c9",
   "metadata": {},
   "outputs": [],
   "source": []
  },
  {
   "cell_type": "code",
   "execution_count": 127,
   "id": "faf32d6d",
   "metadata": {},
   "outputs": [],
   "source": [
    "req = urllib2.Request(paper_url, headers=headers)\n",
    "page = urllib2.urlopen(req)\n",
    "content = page.read()"
   ]
  },
  {
   "cell_type": "code",
   "execution_count": 130,
   "id": "f0445f75",
   "metadata": {},
   "outputs": [],
   "source": [
    "soup = BeautifulSoup(content, 'html.parser')"
   ]
  },
  {
   "cell_type": "code",
   "execution_count": 136,
   "id": "31ecb51c",
   "metadata": {},
   "outputs": [],
   "source": [
    "post_categories = soup.find('div', attrs= {'class', 'post-categories'})\n",
    "category_soup = post_categories.find_all('a', attrs={'class':'post-category'})"
   ]
  },
  {
   "cell_type": "code",
   "execution_count": 139,
   "id": "284f8bd8",
   "metadata": {},
   "outputs": [
    {
     "name": "stdout",
     "output_type": "stream",
     "text": [
      "Image-Guided Interventions and Surgery\n",
      "Image Reconstruction\n",
      "Modalities - MRI\n",
      "Outcome/disease prediction\n"
     ]
    }
   ],
   "source": [
    "for category in category_soup:\n",
    "    print(category.text.strip())"
   ]
  },
  {
   "cell_type": "code",
   "execution_count": null,
   "id": "d5039537",
   "metadata": {},
   "outputs": [],
   "source": []
  },
  {
   "cell_type": "code",
   "execution_count": 146,
   "id": "b8814471",
   "metadata": {},
   "outputs": [],
   "source": [
    "code_element = soup.find('h1', attrs={'id':'code-id'})\n",
    "code_url = code_element.findNext('p').text.strip()\n",
    "if code_url == 'N/A':\n",
    "    code_url = None\n",
    "    \n",
    " "
   ]
  },
  {
   "cell_type": "code",
   "execution_count": null,
   "id": "35db7d01",
   "metadata": {},
   "outputs": [],
   "source": []
  },
  {
   "cell_type": "code",
   "execution_count": null,
   "id": "93c90e4d",
   "metadata": {},
   "outputs": [],
   "source": []
  },
  {
   "cell_type": "code",
   "execution_count": 152,
   "id": "c7bc6b74",
   "metadata": {},
   "outputs": [
    {
     "name": "stdout",
     "output_type": "stream",
     "text": [
      "['Good', 'Good', 'Good']\n"
     ]
    }
   ],
   "source": [
    "clarity_and_organization = []\n",
    "for x in soup.find_all('li'):\n",
    "    if 'Please rate the clarity and organization of this paper' in x.text:\n",
    "        clarity_and_organization.append(x.find('p').text)\n",
    "print(clarity_and_organization)"
   ]
  },
  {
   "cell_type": "code",
   "execution_count": null,
   "id": "bfa60766",
   "metadata": {},
   "outputs": [],
   "source": []
  },
  {
   "cell_type": "code",
   "execution_count": null,
   "id": "76e66dee",
   "metadata": {},
   "outputs": [],
   "source": []
  },
  {
   "cell_type": "code",
   "execution_count": 157,
   "id": "98a64cf9",
   "metadata": {},
   "outputs": [
    {
     "name": "stdout",
     "output_type": "stream",
     "text": [
      "[7.0, 5.0, 7.0]\n"
     ]
    }
   ],
   "source": [
    "overall_opinion = []\n",
    "for x in soup.find_all('li'):\n",
    "    if 'Please state your overall opinion of the paper' in x.text:\n",
    "        overall_opinion.append(float(x.find('p').text.split(' ')[-1].replace('(','').replace(')','')))\n",
    "print(overall_opinion)"
   ]
  },
  {
   "cell_type": "code",
   "execution_count": null,
   "id": "3fffe47f",
   "metadata": {},
   "outputs": [],
   "source": []
  },
  {
   "cell_type": "code",
   "execution_count": 160,
   "id": "fc98d2fd",
   "metadata": {},
   "outputs": [
    {
     "name": "stdout",
     "output_type": "stream",
     "text": [
      "[2.0, 3.0, 5.0]\n"
     ]
    }
   ],
   "source": [
    "ranking_of_paper_in_stack = []\n",
    "for x in soup.find_all('li'):\n",
    "    if 'What is the ranking of this paper in your review stack?' in x.text:\n",
    "        ranking_of_paper_in_stack.append(float(x.find('p').text))\n",
    "print(ranking_of_paper_in_stack)"
   ]
  },
  {
   "cell_type": "code",
   "execution_count": null,
   "id": "4244295d",
   "metadata": {},
   "outputs": [],
   "source": []
  },
  {
   "cell_type": "code",
   "execution_count": 159,
   "id": "f0eee8ab",
   "metadata": {},
   "outputs": [
    {
     "name": "stdout",
     "output_type": "stream",
     "text": [
      "[3.0, 3.0, 2.0]\n"
     ]
    }
   ],
   "source": [
    "number_of_papers_in_stack = []\n",
    "for x in soup.find_all('li'):\n",
    "    if 'Number of papers in your stack' in x.text:\n",
    "        number_of_papers_in_stack.append(float(x.find('p').text))\n",
    "print(number_of_papers_in_stack)"
   ]
  },
  {
   "cell_type": "code",
   "execution_count": null,
   "id": "929d3c34",
   "metadata": {},
   "outputs": [],
   "source": []
  },
  {
   "cell_type": "code",
   "execution_count": 162,
   "id": "7b22aa2e",
   "metadata": {},
   "outputs": [
    {
     "name": "stdout",
     "output_type": "stream",
     "text": [
      "['Confident but not absolutely certain', 'Confident but not absolutely certain', 'Confident but not absolutely certain']\n"
     ]
    }
   ],
   "source": [
    "reviewer_confidence = []\n",
    "for x in soup.find_all('li'):\n",
    "    if 'Reviewer confidence' in x.text:\n",
    "        reviewer_confidence.append(x.find('p').text)\n",
    "print(reviewer_confidence)"
   ]
  },
  {
   "cell_type": "code",
   "execution_count": null,
   "id": "4bb03478",
   "metadata": {},
   "outputs": [],
   "source": []
  }
 ],
 "metadata": {
  "kernelspec": {
   "display_name": "Python 3 (ipykernel)",
   "language": "python",
   "name": "python3"
  },
  "language_info": {
   "codemirror_mode": {
    "name": "ipython",
    "version": 3
   },
   "file_extension": ".py",
   "mimetype": "text/x-python",
   "name": "python",
   "nbconvert_exporter": "python",
   "pygments_lexer": "ipython3",
   "version": "3.9.6"
  }
 },
 "nbformat": 4,
 "nbformat_minor": 5
}
