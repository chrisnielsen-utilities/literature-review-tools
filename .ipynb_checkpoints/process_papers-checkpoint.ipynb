{
 "cells": [
  {
   "cell_type": "code",
   "execution_count": null,
   "id": "e874bf2c",
   "metadata": {},
   "outputs": [],
   "source": []
  },
  {
   "cell_type": "code",
   "execution_count": 71,
   "id": "a5ae503d",
   "metadata": {},
   "outputs": [],
   "source": [
    "from bs4 import BeautifulSoup\n",
    "import urllib.request as urllib2\n",
    "import shutil\n",
    "import os\n",
    "import re\n",
    "\n",
    "\n",
    "headers = {'User-Agent': 'Mozilla/5.0 (X11; Linux x86_64) AppleWebKit/537.11 (KHTML, like Gecko) Chrome/23.0.1271.64 Safari/537.11',\n",
    "       'Accept': 'text/html,application/xhtml+xml,application/xml;q=0.9,*/*;q=0.8',\n",
    "       'Accept-Charset': 'ISO-8859-1,utf-8;q=0.7,*;q=0.3',\n",
    "       'Accept-Encoding': 'none',\n",
    "       'Accept-Language': 'en-US,en;q=0.8',\n",
    "       'Connection': 'keep-alive'}\n",
    "\n",
    "miccai_base_url = 'https://miccai2021.org/openaccess/paperlinks/'\n"
   ]
  },
  {
   "cell_type": "code",
   "execution_count": 5,
   "id": "7335bc9f",
   "metadata": {},
   "outputs": [],
   "source": []
  },
  {
   "cell_type": "markdown",
   "id": "caa0f9eb",
   "metadata": {},
   "source": [
    "### Get list of all papers"
   ]
  },
  {
   "cell_type": "code",
   "execution_count": 48,
   "id": "35cfe07f",
   "metadata": {},
   "outputs": [],
   "source": [
    "req = urllib2.Request(miccai_base_url, headers=headers)\n",
    "page = urllib2.urlopen(req)\n",
    "content = page.read()"
   ]
  },
  {
   "cell_type": "code",
   "execution_count": 49,
   "id": "6ad906b8",
   "metadata": {},
   "outputs": [],
   "source": [
    "soup = BeautifulSoup(content, 'html.parser')\n",
    "paper_list_soup = soup.find_all('span', attrs={'class': 'posts-list-item-name float-left'})\n",
    "paper_list = []\n",
    "\n",
    "for paper in paper_list_soup:\n",
    "    \n",
    "    href = paper.find('a',href=True)['href']\n",
    "    title = paper.find('a',href=True).text\n",
    "    \n",
    "    paper_list.append( (href, title) )"
   ]
  },
  {
   "cell_type": "code",
   "execution_count": 42,
   "id": "3fb752fc",
   "metadata": {},
   "outputs": [],
   "source": []
  },
  {
   "cell_type": "code",
   "execution_count": null,
   "id": "23839f34",
   "metadata": {},
   "outputs": [],
   "source": []
  },
  {
   "cell_type": "markdown",
   "id": "49f3ee57",
   "metadata": {},
   "source": [
    "### Process papers"
   ]
  },
  {
   "cell_type": "code",
   "execution_count": 164,
   "id": "07551584",
   "metadata": {},
   "outputs": [
    {
     "name": "stdout",
     "output_type": "stream",
     "text": [
      "0 ('2021/09/01/001-Paper1891.html', '2.5D Thermometry Maps for MRI-guided Tumor Ablation')\n",
      "1 ('2021/09/01/002-Paper0547.html', '2D Histology Meets 3D Topology: Cytoarchitectonic Brain Mapping with Graph Neural Networks')\n",
      "2 ('2021/09/01/003-Paper1706.html', '3D Brain Midline Delineation for Hematoma Patients')\n",
      "3 ('2021/09/01/004-Paper0943.html', '3D Graph-S2Net: Shape-Aware Self-Ensembling Network for Semi-Supervised Segmentation with Bilateral Graph Convolution')\n",
      "4 ('2021/09/01/005-Paper0364.html', '3D Semantic Mapping from Arthroscopy using Out-of-distribution Pose and Depth and In-distribution Segmentation Training')\n"
     ]
    },
    {
     "ename": "KeyboardInterrupt",
     "evalue": "",
     "output_type": "error",
     "traceback": [
      "\u001b[1;31m---------------------------------------------------------------------------\u001b[0m",
      "\u001b[1;31mKeyboardInterrupt\u001b[0m                         Traceback (most recent call last)",
      "\u001b[1;32m~\\AppData\\Local\\Temp/ipykernel_9336/2927127642.py\u001b[0m in \u001b[0;36m<module>\u001b[1;34m\u001b[0m\n\u001b[0;32m      6\u001b[0m \u001b[1;33m\u001b[0m\u001b[0m\n\u001b[0;32m      7\u001b[0m     \u001b[0mreq\u001b[0m \u001b[1;33m=\u001b[0m \u001b[0murllib2\u001b[0m\u001b[1;33m.\u001b[0m\u001b[0mRequest\u001b[0m\u001b[1;33m(\u001b[0m\u001b[0mpaper_url\u001b[0m\u001b[1;33m,\u001b[0m \u001b[0mheaders\u001b[0m\u001b[1;33m=\u001b[0m\u001b[0mheaders\u001b[0m\u001b[1;33m)\u001b[0m\u001b[1;33m\u001b[0m\u001b[1;33m\u001b[0m\u001b[0m\n\u001b[1;32m----> 8\u001b[1;33m     \u001b[0mpage\u001b[0m \u001b[1;33m=\u001b[0m \u001b[0murllib2\u001b[0m\u001b[1;33m.\u001b[0m\u001b[0murlopen\u001b[0m\u001b[1;33m(\u001b[0m\u001b[0mreq\u001b[0m\u001b[1;33m)\u001b[0m\u001b[1;33m\u001b[0m\u001b[1;33m\u001b[0m\u001b[0m\n\u001b[0m\u001b[0;32m      9\u001b[0m     \u001b[0mcontent\u001b[0m \u001b[1;33m=\u001b[0m \u001b[0mpage\u001b[0m\u001b[1;33m.\u001b[0m\u001b[0mread\u001b[0m\u001b[1;33m(\u001b[0m\u001b[1;33m)\u001b[0m\u001b[1;33m\u001b[0m\u001b[1;33m\u001b[0m\u001b[0m\n\u001b[0;32m     10\u001b[0m \u001b[1;33m\u001b[0m\u001b[0m\n",
      "\u001b[1;32m~\\anaconda3\\envs\\phd\\lib\\urllib\\request.py\u001b[0m in \u001b[0;36murlopen\u001b[1;34m(url, data, timeout, cafile, capath, cadefault, context)\u001b[0m\n\u001b[0;32m    212\u001b[0m     \u001b[1;32melse\u001b[0m\u001b[1;33m:\u001b[0m\u001b[1;33m\u001b[0m\u001b[1;33m\u001b[0m\u001b[0m\n\u001b[0;32m    213\u001b[0m         \u001b[0mopener\u001b[0m \u001b[1;33m=\u001b[0m \u001b[0m_opener\u001b[0m\u001b[1;33m\u001b[0m\u001b[1;33m\u001b[0m\u001b[0m\n\u001b[1;32m--> 214\u001b[1;33m     \u001b[1;32mreturn\u001b[0m \u001b[0mopener\u001b[0m\u001b[1;33m.\u001b[0m\u001b[0mopen\u001b[0m\u001b[1;33m(\u001b[0m\u001b[0murl\u001b[0m\u001b[1;33m,\u001b[0m \u001b[0mdata\u001b[0m\u001b[1;33m,\u001b[0m \u001b[0mtimeout\u001b[0m\u001b[1;33m)\u001b[0m\u001b[1;33m\u001b[0m\u001b[1;33m\u001b[0m\u001b[0m\n\u001b[0m\u001b[0;32m    215\u001b[0m \u001b[1;33m\u001b[0m\u001b[0m\n\u001b[0;32m    216\u001b[0m \u001b[1;32mdef\u001b[0m \u001b[0minstall_opener\u001b[0m\u001b[1;33m(\u001b[0m\u001b[0mopener\u001b[0m\u001b[1;33m)\u001b[0m\u001b[1;33m:\u001b[0m\u001b[1;33m\u001b[0m\u001b[1;33m\u001b[0m\u001b[0m\n",
      "\u001b[1;32m~\\anaconda3\\envs\\phd\\lib\\urllib\\request.py\u001b[0m in \u001b[0;36mopen\u001b[1;34m(self, fullurl, data, timeout)\u001b[0m\n\u001b[0;32m    515\u001b[0m \u001b[1;33m\u001b[0m\u001b[0m\n\u001b[0;32m    516\u001b[0m         \u001b[0msys\u001b[0m\u001b[1;33m.\u001b[0m\u001b[0maudit\u001b[0m\u001b[1;33m(\u001b[0m\u001b[1;34m'urllib.Request'\u001b[0m\u001b[1;33m,\u001b[0m \u001b[0mreq\u001b[0m\u001b[1;33m.\u001b[0m\u001b[0mfull_url\u001b[0m\u001b[1;33m,\u001b[0m \u001b[0mreq\u001b[0m\u001b[1;33m.\u001b[0m\u001b[0mdata\u001b[0m\u001b[1;33m,\u001b[0m \u001b[0mreq\u001b[0m\u001b[1;33m.\u001b[0m\u001b[0mheaders\u001b[0m\u001b[1;33m,\u001b[0m \u001b[0mreq\u001b[0m\u001b[1;33m.\u001b[0m\u001b[0mget_method\u001b[0m\u001b[1;33m(\u001b[0m\u001b[1;33m)\u001b[0m\u001b[1;33m)\u001b[0m\u001b[1;33m\u001b[0m\u001b[1;33m\u001b[0m\u001b[0m\n\u001b[1;32m--> 517\u001b[1;33m         \u001b[0mresponse\u001b[0m \u001b[1;33m=\u001b[0m \u001b[0mself\u001b[0m\u001b[1;33m.\u001b[0m\u001b[0m_open\u001b[0m\u001b[1;33m(\u001b[0m\u001b[0mreq\u001b[0m\u001b[1;33m,\u001b[0m \u001b[0mdata\u001b[0m\u001b[1;33m)\u001b[0m\u001b[1;33m\u001b[0m\u001b[1;33m\u001b[0m\u001b[0m\n\u001b[0m\u001b[0;32m    518\u001b[0m \u001b[1;33m\u001b[0m\u001b[0m\n\u001b[0;32m    519\u001b[0m         \u001b[1;31m# post-process response\u001b[0m\u001b[1;33m\u001b[0m\u001b[1;33m\u001b[0m\u001b[1;33m\u001b[0m\u001b[0m\n",
      "\u001b[1;32m~\\anaconda3\\envs\\phd\\lib\\urllib\\request.py\u001b[0m in \u001b[0;36m_open\u001b[1;34m(self, req, data)\u001b[0m\n\u001b[0;32m    532\u001b[0m \u001b[1;33m\u001b[0m\u001b[0m\n\u001b[0;32m    533\u001b[0m         \u001b[0mprotocol\u001b[0m \u001b[1;33m=\u001b[0m \u001b[0mreq\u001b[0m\u001b[1;33m.\u001b[0m\u001b[0mtype\u001b[0m\u001b[1;33m\u001b[0m\u001b[1;33m\u001b[0m\u001b[0m\n\u001b[1;32m--> 534\u001b[1;33m         result = self._call_chain(self.handle_open, protocol, protocol +\n\u001b[0m\u001b[0;32m    535\u001b[0m                                   '_open', req)\n\u001b[0;32m    536\u001b[0m         \u001b[1;32mif\u001b[0m \u001b[0mresult\u001b[0m\u001b[1;33m:\u001b[0m\u001b[1;33m\u001b[0m\u001b[1;33m\u001b[0m\u001b[0m\n",
      "\u001b[1;32m~\\anaconda3\\envs\\phd\\lib\\urllib\\request.py\u001b[0m in \u001b[0;36m_call_chain\u001b[1;34m(self, chain, kind, meth_name, *args)\u001b[0m\n\u001b[0;32m    492\u001b[0m         \u001b[1;32mfor\u001b[0m \u001b[0mhandler\u001b[0m \u001b[1;32min\u001b[0m \u001b[0mhandlers\u001b[0m\u001b[1;33m:\u001b[0m\u001b[1;33m\u001b[0m\u001b[1;33m\u001b[0m\u001b[0m\n\u001b[0;32m    493\u001b[0m             \u001b[0mfunc\u001b[0m \u001b[1;33m=\u001b[0m \u001b[0mgetattr\u001b[0m\u001b[1;33m(\u001b[0m\u001b[0mhandler\u001b[0m\u001b[1;33m,\u001b[0m \u001b[0mmeth_name\u001b[0m\u001b[1;33m)\u001b[0m\u001b[1;33m\u001b[0m\u001b[1;33m\u001b[0m\u001b[0m\n\u001b[1;32m--> 494\u001b[1;33m             \u001b[0mresult\u001b[0m \u001b[1;33m=\u001b[0m \u001b[0mfunc\u001b[0m\u001b[1;33m(\u001b[0m\u001b[1;33m*\u001b[0m\u001b[0margs\u001b[0m\u001b[1;33m)\u001b[0m\u001b[1;33m\u001b[0m\u001b[1;33m\u001b[0m\u001b[0m\n\u001b[0m\u001b[0;32m    495\u001b[0m             \u001b[1;32mif\u001b[0m \u001b[0mresult\u001b[0m \u001b[1;32mis\u001b[0m \u001b[1;32mnot\u001b[0m \u001b[1;32mNone\u001b[0m\u001b[1;33m:\u001b[0m\u001b[1;33m\u001b[0m\u001b[1;33m\u001b[0m\u001b[0m\n\u001b[0;32m    496\u001b[0m                 \u001b[1;32mreturn\u001b[0m \u001b[0mresult\u001b[0m\u001b[1;33m\u001b[0m\u001b[1;33m\u001b[0m\u001b[0m\n",
      "\u001b[1;32m~\\anaconda3\\envs\\phd\\lib\\urllib\\request.py\u001b[0m in \u001b[0;36mhttps_open\u001b[1;34m(self, req)\u001b[0m\n\u001b[0;32m   1387\u001b[0m \u001b[1;33m\u001b[0m\u001b[0m\n\u001b[0;32m   1388\u001b[0m         \u001b[1;32mdef\u001b[0m \u001b[0mhttps_open\u001b[0m\u001b[1;33m(\u001b[0m\u001b[0mself\u001b[0m\u001b[1;33m,\u001b[0m \u001b[0mreq\u001b[0m\u001b[1;33m)\u001b[0m\u001b[1;33m:\u001b[0m\u001b[1;33m\u001b[0m\u001b[1;33m\u001b[0m\u001b[0m\n\u001b[1;32m-> 1389\u001b[1;33m             return self.do_open(http.client.HTTPSConnection, req,\n\u001b[0m\u001b[0;32m   1390\u001b[0m                 context=self._context, check_hostname=self._check_hostname)\n\u001b[0;32m   1391\u001b[0m \u001b[1;33m\u001b[0m\u001b[0m\n",
      "\u001b[1;32m~\\anaconda3\\envs\\phd\\lib\\urllib\\request.py\u001b[0m in \u001b[0;36mdo_open\u001b[1;34m(self, http_class, req, **http_conn_args)\u001b[0m\n\u001b[0;32m   1348\u001b[0m             \u001b[1;32mexcept\u001b[0m \u001b[0mOSError\u001b[0m \u001b[1;32mas\u001b[0m \u001b[0merr\u001b[0m\u001b[1;33m:\u001b[0m \u001b[1;31m# timeout error\u001b[0m\u001b[1;33m\u001b[0m\u001b[1;33m\u001b[0m\u001b[0m\n\u001b[0;32m   1349\u001b[0m                 \u001b[1;32mraise\u001b[0m \u001b[0mURLError\u001b[0m\u001b[1;33m(\u001b[0m\u001b[0merr\u001b[0m\u001b[1;33m)\u001b[0m\u001b[1;33m\u001b[0m\u001b[1;33m\u001b[0m\u001b[0m\n\u001b[1;32m-> 1350\u001b[1;33m             \u001b[0mr\u001b[0m \u001b[1;33m=\u001b[0m \u001b[0mh\u001b[0m\u001b[1;33m.\u001b[0m\u001b[0mgetresponse\u001b[0m\u001b[1;33m(\u001b[0m\u001b[1;33m)\u001b[0m\u001b[1;33m\u001b[0m\u001b[1;33m\u001b[0m\u001b[0m\n\u001b[0m\u001b[0;32m   1351\u001b[0m         \u001b[1;32mexcept\u001b[0m\u001b[1;33m:\u001b[0m\u001b[1;33m\u001b[0m\u001b[1;33m\u001b[0m\u001b[0m\n\u001b[0;32m   1352\u001b[0m             \u001b[0mh\u001b[0m\u001b[1;33m.\u001b[0m\u001b[0mclose\u001b[0m\u001b[1;33m(\u001b[0m\u001b[1;33m)\u001b[0m\u001b[1;33m\u001b[0m\u001b[1;33m\u001b[0m\u001b[0m\n",
      "\u001b[1;32m~\\anaconda3\\envs\\phd\\lib\\http\\client.py\u001b[0m in \u001b[0;36mgetresponse\u001b[1;34m(self)\u001b[0m\n\u001b[0;32m   1347\u001b[0m         \u001b[1;32mtry\u001b[0m\u001b[1;33m:\u001b[0m\u001b[1;33m\u001b[0m\u001b[1;33m\u001b[0m\u001b[0m\n\u001b[0;32m   1348\u001b[0m             \u001b[1;32mtry\u001b[0m\u001b[1;33m:\u001b[0m\u001b[1;33m\u001b[0m\u001b[1;33m\u001b[0m\u001b[0m\n\u001b[1;32m-> 1349\u001b[1;33m                 \u001b[0mresponse\u001b[0m\u001b[1;33m.\u001b[0m\u001b[0mbegin\u001b[0m\u001b[1;33m(\u001b[0m\u001b[1;33m)\u001b[0m\u001b[1;33m\u001b[0m\u001b[1;33m\u001b[0m\u001b[0m\n\u001b[0m\u001b[0;32m   1350\u001b[0m             \u001b[1;32mexcept\u001b[0m \u001b[0mConnectionError\u001b[0m\u001b[1;33m:\u001b[0m\u001b[1;33m\u001b[0m\u001b[1;33m\u001b[0m\u001b[0m\n\u001b[0;32m   1351\u001b[0m                 \u001b[0mself\u001b[0m\u001b[1;33m.\u001b[0m\u001b[0mclose\u001b[0m\u001b[1;33m(\u001b[0m\u001b[1;33m)\u001b[0m\u001b[1;33m\u001b[0m\u001b[1;33m\u001b[0m\u001b[0m\n",
      "\u001b[1;32m~\\anaconda3\\envs\\phd\\lib\\http\\client.py\u001b[0m in \u001b[0;36mbegin\u001b[1;34m(self)\u001b[0m\n\u001b[0;32m    314\u001b[0m         \u001b[1;31m# read until we get a non-100 response\u001b[0m\u001b[1;33m\u001b[0m\u001b[1;33m\u001b[0m\u001b[1;33m\u001b[0m\u001b[0m\n\u001b[0;32m    315\u001b[0m         \u001b[1;32mwhile\u001b[0m \u001b[1;32mTrue\u001b[0m\u001b[1;33m:\u001b[0m\u001b[1;33m\u001b[0m\u001b[1;33m\u001b[0m\u001b[0m\n\u001b[1;32m--> 316\u001b[1;33m             \u001b[0mversion\u001b[0m\u001b[1;33m,\u001b[0m \u001b[0mstatus\u001b[0m\u001b[1;33m,\u001b[0m \u001b[0mreason\u001b[0m \u001b[1;33m=\u001b[0m \u001b[0mself\u001b[0m\u001b[1;33m.\u001b[0m\u001b[0m_read_status\u001b[0m\u001b[1;33m(\u001b[0m\u001b[1;33m)\u001b[0m\u001b[1;33m\u001b[0m\u001b[1;33m\u001b[0m\u001b[0m\n\u001b[0m\u001b[0;32m    317\u001b[0m             \u001b[1;32mif\u001b[0m \u001b[0mstatus\u001b[0m \u001b[1;33m!=\u001b[0m \u001b[0mCONTINUE\u001b[0m\u001b[1;33m:\u001b[0m\u001b[1;33m\u001b[0m\u001b[1;33m\u001b[0m\u001b[0m\n\u001b[0;32m    318\u001b[0m                 \u001b[1;32mbreak\u001b[0m\u001b[1;33m\u001b[0m\u001b[1;33m\u001b[0m\u001b[0m\n",
      "\u001b[1;32m~\\anaconda3\\envs\\phd\\lib\\http\\client.py\u001b[0m in \u001b[0;36m_read_status\u001b[1;34m(self)\u001b[0m\n\u001b[0;32m    275\u001b[0m \u001b[1;33m\u001b[0m\u001b[0m\n\u001b[0;32m    276\u001b[0m     \u001b[1;32mdef\u001b[0m \u001b[0m_read_status\u001b[0m\u001b[1;33m(\u001b[0m\u001b[0mself\u001b[0m\u001b[1;33m)\u001b[0m\u001b[1;33m:\u001b[0m\u001b[1;33m\u001b[0m\u001b[1;33m\u001b[0m\u001b[0m\n\u001b[1;32m--> 277\u001b[1;33m         \u001b[0mline\u001b[0m \u001b[1;33m=\u001b[0m \u001b[0mstr\u001b[0m\u001b[1;33m(\u001b[0m\u001b[0mself\u001b[0m\u001b[1;33m.\u001b[0m\u001b[0mfp\u001b[0m\u001b[1;33m.\u001b[0m\u001b[0mreadline\u001b[0m\u001b[1;33m(\u001b[0m\u001b[0m_MAXLINE\u001b[0m \u001b[1;33m+\u001b[0m \u001b[1;36m1\u001b[0m\u001b[1;33m)\u001b[0m\u001b[1;33m,\u001b[0m \u001b[1;34m\"iso-8859-1\"\u001b[0m\u001b[1;33m)\u001b[0m\u001b[1;33m\u001b[0m\u001b[1;33m\u001b[0m\u001b[0m\n\u001b[0m\u001b[0;32m    278\u001b[0m         \u001b[1;32mif\u001b[0m \u001b[0mlen\u001b[0m\u001b[1;33m(\u001b[0m\u001b[0mline\u001b[0m\u001b[1;33m)\u001b[0m \u001b[1;33m>\u001b[0m \u001b[0m_MAXLINE\u001b[0m\u001b[1;33m:\u001b[0m\u001b[1;33m\u001b[0m\u001b[1;33m\u001b[0m\u001b[0m\n\u001b[0;32m    279\u001b[0m             \u001b[1;32mraise\u001b[0m \u001b[0mLineTooLong\u001b[0m\u001b[1;33m(\u001b[0m\u001b[1;34m\"status line\"\u001b[0m\u001b[1;33m)\u001b[0m\u001b[1;33m\u001b[0m\u001b[1;33m\u001b[0m\u001b[0m\n",
      "\u001b[1;32m~\\anaconda3\\envs\\phd\\lib\\socket.py\u001b[0m in \u001b[0;36mreadinto\u001b[1;34m(self, b)\u001b[0m\n\u001b[0;32m    702\u001b[0m         \u001b[1;32mwhile\u001b[0m \u001b[1;32mTrue\u001b[0m\u001b[1;33m:\u001b[0m\u001b[1;33m\u001b[0m\u001b[1;33m\u001b[0m\u001b[0m\n\u001b[0;32m    703\u001b[0m             \u001b[1;32mtry\u001b[0m\u001b[1;33m:\u001b[0m\u001b[1;33m\u001b[0m\u001b[1;33m\u001b[0m\u001b[0m\n\u001b[1;32m--> 704\u001b[1;33m                 \u001b[1;32mreturn\u001b[0m \u001b[0mself\u001b[0m\u001b[1;33m.\u001b[0m\u001b[0m_sock\u001b[0m\u001b[1;33m.\u001b[0m\u001b[0mrecv_into\u001b[0m\u001b[1;33m(\u001b[0m\u001b[0mb\u001b[0m\u001b[1;33m)\u001b[0m\u001b[1;33m\u001b[0m\u001b[1;33m\u001b[0m\u001b[0m\n\u001b[0m\u001b[0;32m    705\u001b[0m             \u001b[1;32mexcept\u001b[0m \u001b[0mtimeout\u001b[0m\u001b[1;33m:\u001b[0m\u001b[1;33m\u001b[0m\u001b[1;33m\u001b[0m\u001b[0m\n\u001b[0;32m    706\u001b[0m                 \u001b[0mself\u001b[0m\u001b[1;33m.\u001b[0m\u001b[0m_timeout_occurred\u001b[0m \u001b[1;33m=\u001b[0m \u001b[1;32mTrue\u001b[0m\u001b[1;33m\u001b[0m\u001b[1;33m\u001b[0m\u001b[0m\n",
      "\u001b[1;32m~\\anaconda3\\envs\\phd\\lib\\ssl.py\u001b[0m in \u001b[0;36mrecv_into\u001b[1;34m(self, buffer, nbytes, flags)\u001b[0m\n\u001b[0;32m   1239\u001b[0m                   \u001b[1;34m\"non-zero flags not allowed in calls to recv_into() on %s\"\u001b[0m \u001b[1;33m%\u001b[0m\u001b[1;33m\u001b[0m\u001b[1;33m\u001b[0m\u001b[0m\n\u001b[0;32m   1240\u001b[0m                   self.__class__)\n\u001b[1;32m-> 1241\u001b[1;33m             \u001b[1;32mreturn\u001b[0m \u001b[0mself\u001b[0m\u001b[1;33m.\u001b[0m\u001b[0mread\u001b[0m\u001b[1;33m(\u001b[0m\u001b[0mnbytes\u001b[0m\u001b[1;33m,\u001b[0m \u001b[0mbuffer\u001b[0m\u001b[1;33m)\u001b[0m\u001b[1;33m\u001b[0m\u001b[1;33m\u001b[0m\u001b[0m\n\u001b[0m\u001b[0;32m   1242\u001b[0m         \u001b[1;32melse\u001b[0m\u001b[1;33m:\u001b[0m\u001b[1;33m\u001b[0m\u001b[1;33m\u001b[0m\u001b[0m\n\u001b[0;32m   1243\u001b[0m             \u001b[1;32mreturn\u001b[0m \u001b[0msuper\u001b[0m\u001b[1;33m(\u001b[0m\u001b[1;33m)\u001b[0m\u001b[1;33m.\u001b[0m\u001b[0mrecv_into\u001b[0m\u001b[1;33m(\u001b[0m\u001b[0mbuffer\u001b[0m\u001b[1;33m,\u001b[0m \u001b[0mnbytes\u001b[0m\u001b[1;33m,\u001b[0m \u001b[0mflags\u001b[0m\u001b[1;33m)\u001b[0m\u001b[1;33m\u001b[0m\u001b[1;33m\u001b[0m\u001b[0m\n",
      "\u001b[1;32m~\\anaconda3\\envs\\phd\\lib\\ssl.py\u001b[0m in \u001b[0;36mread\u001b[1;34m(self, len, buffer)\u001b[0m\n\u001b[0;32m   1097\u001b[0m         \u001b[1;32mtry\u001b[0m\u001b[1;33m:\u001b[0m\u001b[1;33m\u001b[0m\u001b[1;33m\u001b[0m\u001b[0m\n\u001b[0;32m   1098\u001b[0m             \u001b[1;32mif\u001b[0m \u001b[0mbuffer\u001b[0m \u001b[1;32mis\u001b[0m \u001b[1;32mnot\u001b[0m \u001b[1;32mNone\u001b[0m\u001b[1;33m:\u001b[0m\u001b[1;33m\u001b[0m\u001b[1;33m\u001b[0m\u001b[0m\n\u001b[1;32m-> 1099\u001b[1;33m                 \u001b[1;32mreturn\u001b[0m \u001b[0mself\u001b[0m\u001b[1;33m.\u001b[0m\u001b[0m_sslobj\u001b[0m\u001b[1;33m.\u001b[0m\u001b[0mread\u001b[0m\u001b[1;33m(\u001b[0m\u001b[0mlen\u001b[0m\u001b[1;33m,\u001b[0m \u001b[0mbuffer\u001b[0m\u001b[1;33m)\u001b[0m\u001b[1;33m\u001b[0m\u001b[1;33m\u001b[0m\u001b[0m\n\u001b[0m\u001b[0;32m   1100\u001b[0m             \u001b[1;32melse\u001b[0m\u001b[1;33m:\u001b[0m\u001b[1;33m\u001b[0m\u001b[1;33m\u001b[0m\u001b[0m\n\u001b[0;32m   1101\u001b[0m                 \u001b[1;32mreturn\u001b[0m \u001b[0mself\u001b[0m\u001b[1;33m.\u001b[0m\u001b[0m_sslobj\u001b[0m\u001b[1;33m.\u001b[0m\u001b[0mread\u001b[0m\u001b[1;33m(\u001b[0m\u001b[0mlen\u001b[0m\u001b[1;33m)\u001b[0m\u001b[1;33m\u001b[0m\u001b[1;33m\u001b[0m\u001b[0m\n",
      "\u001b[1;31mKeyboardInterrupt\u001b[0m: "
     ]
    }
   ],
   "source": [
    "paper_metadata = {}\n",
    "for i, paper in enumerate(paper_list):\n",
    "    print(i, paper)\n",
    "    paper_name = paper[1]\n",
    "    paper_url = miccai_base_url + paper[0]\n",
    "    \n",
    "    req = urllib2.Request(paper_url, headers=headers)\n",
    "    page = urllib2.urlopen(req)\n",
    "    content = page.read()\n",
    "    \n",
    "    \n",
    "    soup = BeautifulSoup(content, 'html.parser')\n",
    "    \n",
    "    post_categories = soup.find('div', attrs= {'class', 'post-categories'})\n",
    "    category_soup = post_categories.find_all('a', attrs={'class':'post-category'})\n",
    "    \n",
    "    paper_categories = set()\n",
    "    for category in category_soup:\n",
    "        paper_categories.add(category.text.strip())\n",
    "    \n",
    "    \n",
    "    code_element = soup.find('h1', attrs={'id':'code-id'})\n",
    "    code_url = code_element.findNext('p').text.strip()\n",
    "    if code_url == 'N/A':\n",
    "        code_url = None\n",
    "    \n",
    "    \n",
    "    \n",
    "    clarity_and_organization = []\n",
    "    for x in soup.find_all('li'):\n",
    "        if 'Please rate the clarity and organization of this paper' in x.text:\n",
    "            clarity_and_organization.append(x.find('p').text)\n",
    "    \n",
    "    overall_opinion = []\n",
    "    for x in soup.find_all('li'):\n",
    "        if 'Please state your overall opinion of the paper' in x.text:\n",
    "            overall_opinion.append(float(x.find('p').text.split(' ')[-1].replace('(','').replace(')','')))\n",
    "    \n",
    "    reviewer_confidence = []\n",
    "    for x in soup.find_all('li'):\n",
    "        if 'Reviewer confidence' in x.text:\n",
    "            reviewer_confidence.append(x.find('p').text)\n",
    "               \n",
    "    ranking_of_paper_in_stack = []\n",
    "    for x in soup.find_all('li'):\n",
    "        if 'What is the ranking of this paper in your review stack?' in x.text:\n",
    "            ranking_of_paper_in_stack.append(float(x.find('p').text))\n",
    "            \n",
    "            \n",
    "    number_of_papers_in_stack = []\n",
    "    for x in soup.find_all('li'):\n",
    "        if 'Number of papers in your stack' in x.text:\n",
    "            number_of_papers_in_stack.append(float(x.find('p').text))\n",
    "            \n",
    "            \n",
    "    paper_metadata[paper] = {}\n",
    "    paper_metadata[paper]['paper_categories'] = paper_categories\n",
    "    paper_metadata[paper]['clarity_and_organization'] = clarity_and_organization\n",
    "    paper_metadata[paper]['overall_opinion'] = overall_opinion\n",
    "    paper_metadata[paper]['reviewer_confidence'] = reviewer_confidence\n",
    "    paper_metadata[paper]['ranking_of_paper_in_stack'] = ranking_of_paper_in_stack\n",
    "    paper_metadata[paper]['number_of_papers_in_stack'] = number_of_papers_in_stack\n",
    "    paper_metadata[paper]['code_url'] = code_url\n",
    "    paper_metadata[paper]['paper_url'] = paper_url\n",
    "    \n",
    "    \n",
    "    \n",
    "\n"
   ]
  },
  {
   "cell_type": "code",
   "execution_count": null,
   "id": "3f7821d3",
   "metadata": {},
   "outputs": [],
   "source": []
  },
  {
   "cell_type": "code",
   "execution_count": 166,
   "id": "c97a3af9",
   "metadata": {},
   "outputs": [
    {
     "data": {
      "text/plain": [
       "'https://miccai2021.org/openaccess/paperlinks/2021/09/01/005-Paper0364.html'"
      ]
     },
     "execution_count": 166,
     "metadata": {},
     "output_type": "execute_result"
    }
   ],
   "source": [
    "paper_url"
   ]
  },
  {
   "cell_type": "code",
   "execution_count": 165,
   "id": "c2b6bc2f",
   "metadata": {},
   "outputs": [
    {
     "data": {
      "text/plain": [
       "{('2021/09/01/001-Paper1891.html',\n",
       "  '2.5D Thermometry Maps for MRI-guided Tumor Ablation'): {'paper_categories': {'Image Reconstruction',\n",
       "   'Image-Guided Interventions and Surgery',\n",
       "   'Modalities - MRI',\n",
       "   'Outcome/disease prediction'},\n",
       "  'clarity_and_organization': ['Good', 'Good', 'Good'],\n",
       "  'overall_opinion': [7.0, 5.0, 7.0],\n",
       "  'reviewer_confidence': ['Confident but not absolutely certain',\n",
       "   'Confident but not absolutely certain',\n",
       "   'Confident but not absolutely certain'],\n",
       "  'ranking_of_paper_in_stack': [2.0, 3.0, 5.0],\n",
       "  'number_of_papers_in_stack': [3.0, 3.0, 2.0],\n",
       "  'code_url': 'https://github.com/jalpers/2.5DThermometryReconstruction',\n",
       "  'paper_url': 'https://miccai2021.org/openaccess/paperlinks/2021/09/01/001-Paper1891.html'},\n",
       " ('2021/09/01/002-Paper0547.html',\n",
       "  '2D Histology Meets 3D Topology: Cytoarchitectonic Brain Mapping with Graph Neural Networks'): {'paper_categories': {'Image Segmentation',\n",
       "   'Modalities - Microscopy'},\n",
       "  'clarity_and_organization': ['Good', 'Satisfactory', 'Good', 'Good'],\n",
       "  'overall_opinion': [7.0, 4.0, 8.0, 7.0],\n",
       "  'reviewer_confidence': ['Somewhat confident',\n",
       "   'Confident but not absolutely certain',\n",
       "   'Somewhat confident',\n",
       "   'Very confident'],\n",
       "  'ranking_of_paper_in_stack': [5.0, 7.0, 2.0, 3.0],\n",
       "  'number_of_papers_in_stack': [3.0, 7.0, 7.0, 8.0],\n",
       "  'code_url': 'https://jugit.fz-juelich.de/c.schiffer/miccai2021_2d_histology_meets_3d_topology',\n",
       "  'paper_url': 'https://miccai2021.org/openaccess/paperlinks/2021/09/01/002-Paper0547.html'},\n",
       " ('2021/09/01/003-Paper1706.html',\n",
       "  '3D Brain Midline Delineation for Hematoma Patients'): {'paper_categories': {'Computer Aided Diagnosis',\n",
       "   'Image Segmentation',\n",
       "   'Image-Guided Interventions and Surgery',\n",
       "   'Modalities - CT',\n",
       "   'Surgical Planning and Simulation'},\n",
       "  'clarity_and_organization': ['Very Good', 'Very Good', 'Good'],\n",
       "  'overall_opinion': [8.0, 8.0, 5.0],\n",
       "  'reviewer_confidence': ['Very confident',\n",
       "   'Very confident',\n",
       "   'Confident but not absolutely certain'],\n",
       "  'ranking_of_paper_in_stack': [2.0, 2.0, 4.0],\n",
       "  'number_of_papers_in_stack': [5.0, 5.0, 4.0],\n",
       "  'code_url': None,\n",
       "  'paper_url': 'https://miccai2021.org/openaccess/paperlinks/2021/09/01/003-Paper1706.html'},\n",
       " ('2021/09/01/004-Paper0943.html',\n",
       "  '3D Graph-S2Net: Shape-Aware Self-Ensembling Network for Semi-Supervised Segmentation with Bilateral Graph Convolution'): {'paper_categories': {'Image Segmentation',\n",
       "   'Machine Learning - Semi-supervised learning'},\n",
       "  'clarity_and_organization': ['Satisfactory', 'Very Good', 'Very Good'],\n",
       "  'overall_opinion': [4.0, 8.0, 8.0],\n",
       "  'reviewer_confidence': ['Confident but not absolutely certain',\n",
       "   'Confident but not absolutely certain',\n",
       "   'Confident but not absolutely certain'],\n",
       "  'ranking_of_paper_in_stack': [3.0, 1.0, 1.0],\n",
       "  'number_of_papers_in_stack': [5.0, 5.0, 5.0],\n",
       "  'code_url': None,\n",
       "  'paper_url': 'https://miccai2021.org/openaccess/paperlinks/2021/09/01/004-Paper0943.html'}}"
      ]
     },
     "execution_count": 165,
     "metadata": {},
     "output_type": "execute_result"
    }
   ],
   "source": [
    "paper_metadata"
   ]
  },
  {
   "cell_type": "code",
   "execution_count": null,
   "id": "d744fb66",
   "metadata": {},
   "outputs": [],
   "source": []
  },
  {
   "cell_type": "code",
   "execution_count": null,
   "id": "18ecc6b2",
   "metadata": {},
   "outputs": [],
   "source": []
  },
  {
   "cell_type": "code",
   "execution_count": 126,
   "id": "70560b5d",
   "metadata": {},
   "outputs": [
    {
     "name": "stdout",
     "output_type": "stream",
     "text": [
      "https://miccai2021.org/openaccess/paperlinks/2021/09/01/001-Paper1891.html\n"
     ]
    }
   ],
   "source": [
    "\n",
    "paper = paper_list[0]\n",
    "paper_url = miccai_base_url + paper[0]\n",
    "print(paper_url)"
   ]
  },
  {
   "cell_type": "code",
   "execution_count": null,
   "id": "df3261c9",
   "metadata": {},
   "outputs": [],
   "source": []
  },
  {
   "cell_type": "code",
   "execution_count": 127,
   "id": "faf32d6d",
   "metadata": {},
   "outputs": [],
   "source": [
    "req = urllib2.Request(paper_url, headers=headers)\n",
    "page = urllib2.urlopen(req)\n",
    "content = page.read()"
   ]
  },
  {
   "cell_type": "code",
   "execution_count": 130,
   "id": "f0445f75",
   "metadata": {},
   "outputs": [],
   "source": [
    "soup = BeautifulSoup(content, 'html.parser')"
   ]
  },
  {
   "cell_type": "code",
   "execution_count": 136,
   "id": "31ecb51c",
   "metadata": {},
   "outputs": [],
   "source": [
    "post_categories = soup.find('div', attrs= {'class', 'post-categories'})\n",
    "category_soup = post_categories.find_all('a', attrs={'class':'post-category'})"
   ]
  },
  {
   "cell_type": "code",
   "execution_count": 139,
   "id": "8afdec1e",
   "metadata": {},
   "outputs": [
    {
     "name": "stdout",
     "output_type": "stream",
     "text": [
      "Image-Guided Interventions and Surgery\n",
      "Image Reconstruction\n",
      "Modalities - MRI\n",
      "Outcome/disease prediction\n"
     ]
    }
   ],
   "source": [
    "for category in category_soup:\n",
    "    print(category.text.strip())"
   ]
  },
  {
   "cell_type": "code",
   "execution_count": null,
   "id": "f7ccccf9",
   "metadata": {},
   "outputs": [],
   "source": []
  },
  {
   "cell_type": "code",
   "execution_count": 146,
   "id": "1a7dc0a5",
   "metadata": {},
   "outputs": [],
   "source": [
    "code_element = soup.find('h1', attrs={'id':'code-id'})\n",
    "code_url = code_element.findNext('p').text.strip()\n",
    "if code_url == 'N/A':\n",
    "    code_url = None\n",
    "    \n",
    " "
   ]
  },
  {
   "cell_type": "code",
   "execution_count": null,
   "id": "7eff98cb",
   "metadata": {},
   "outputs": [],
   "source": []
  },
  {
   "cell_type": "code",
   "execution_count": null,
   "id": "691fdf39",
   "metadata": {},
   "outputs": [],
   "source": []
  },
  {
   "cell_type": "code",
   "execution_count": 152,
   "id": "461c05e5",
   "metadata": {},
   "outputs": [
    {
     "name": "stdout",
     "output_type": "stream",
     "text": [
      "['Good', 'Good', 'Good']\n"
     ]
    }
   ],
   "source": [
    "clarity_and_organization = []\n",
    "for x in soup.find_all('li'):\n",
    "    if 'Please rate the clarity and organization of this paper' in x.text:\n",
    "        clarity_and_organization.append(x.find('p').text)\n",
    "print(clarity_and_organization)"
   ]
  },
  {
   "cell_type": "code",
   "execution_count": null,
   "id": "e4ea97cd",
   "metadata": {},
   "outputs": [],
   "source": []
  },
  {
   "cell_type": "code",
   "execution_count": null,
   "id": "98934328",
   "metadata": {},
   "outputs": [],
   "source": []
  },
  {
   "cell_type": "code",
   "execution_count": 157,
   "id": "198f988e",
   "metadata": {},
   "outputs": [
    {
     "name": "stdout",
     "output_type": "stream",
     "text": [
      "[7.0, 5.0, 7.0]\n"
     ]
    }
   ],
   "source": [
    "overall_opinion = []\n",
    "for x in soup.find_all('li'):\n",
    "    if 'Please state your overall opinion of the paper' in x.text:\n",
    "        overall_opinion.append(float(x.find('p').text.split(' ')[-1].replace('(','').replace(')','')))\n",
    "print(overall_opinion)"
   ]
  },
  {
   "cell_type": "code",
   "execution_count": null,
   "id": "74fa4f5a",
   "metadata": {},
   "outputs": [],
   "source": []
  },
  {
   "cell_type": "code",
   "execution_count": 160,
   "id": "a0c14860",
   "metadata": {},
   "outputs": [
    {
     "name": "stdout",
     "output_type": "stream",
     "text": [
      "[2.0, 3.0, 5.0]\n"
     ]
    }
   ],
   "source": [
    "ranking_of_paper_in_stack = []\n",
    "for x in soup.find_all('li'):\n",
    "    if 'What is the ranking of this paper in your review stack?' in x.text:\n",
    "        ranking_of_paper_in_stack.append(float(x.find('p').text))\n",
    "print(ranking_of_paper_in_stack)"
   ]
  },
  {
   "cell_type": "code",
   "execution_count": null,
   "id": "6fdab325",
   "metadata": {},
   "outputs": [],
   "source": []
  },
  {
   "cell_type": "code",
   "execution_count": 159,
   "id": "4ec1eaa5",
   "metadata": {},
   "outputs": [
    {
     "name": "stdout",
     "output_type": "stream",
     "text": [
      "[3.0, 3.0, 2.0]\n"
     ]
    }
   ],
   "source": [
    "number_of_papers_in_stack = []\n",
    "for x in soup.find_all('li'):\n",
    "    if 'Number of papers in your stack' in x.text:\n",
    "        number_of_papers_in_stack.append(float(x.find('p').text))\n",
    "print(number_of_papers_in_stack)"
   ]
  },
  {
   "cell_type": "code",
   "execution_count": null,
   "id": "b46215d4",
   "metadata": {},
   "outputs": [],
   "source": []
  },
  {
   "cell_type": "code",
   "execution_count": 162,
   "id": "1c1129c2",
   "metadata": {},
   "outputs": [
    {
     "name": "stdout",
     "output_type": "stream",
     "text": [
      "['Confident but not absolutely certain', 'Confident but not absolutely certain', 'Confident but not absolutely certain']\n"
     ]
    }
   ],
   "source": [
    "reviewer_confidence = []\n",
    "for x in soup.find_all('li'):\n",
    "    if 'Reviewer confidence' in x.text:\n",
    "        reviewer_confidence.append(x.find('p').text)\n",
    "print(reviewer_confidence)"
   ]
  },
  {
   "cell_type": "code",
   "execution_count": null,
   "id": "ba4a6d5d",
   "metadata": {},
   "outputs": [],
   "source": []
  }
 ],
 "metadata": {
  "kernelspec": {
   "display_name": "Python 3 (ipykernel)",
   "language": "python",
   "name": "python3"
  },
  "language_info": {
   "codemirror_mode": {
    "name": "ipython",
    "version": 3
   },
   "file_extension": ".py",
   "mimetype": "text/x-python",
   "name": "python",
   "nbconvert_exporter": "python",
   "pygments_lexer": "ipython3",
   "version": "3.9.6"
  }
 },
 "nbformat": 4,
 "nbformat_minor": 5
}
